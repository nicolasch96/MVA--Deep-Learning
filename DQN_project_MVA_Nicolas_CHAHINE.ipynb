{
  "nbformat": 4,
  "nbformat_minor": 0,
  "metadata": {
    "kernelspec": {
      "name": "python3",
      "display_name": "Python 3"
    },
    "language_info": {
      "codemirror_mode": {
        "name": "ipython",
        "version": 3
      },
      "file_extension": ".py",
      "mimetype": "text/x-python",
      "name": "python",
      "nbconvert_exporter": "python",
      "pygments_lexer": "ipython3",
      "version": "3.5.7"
    },
    "colab": {
      "name": "DQN_project_MVA_Nicolas CHAHINE.ipynb",
      "provenance": [],
      "collapsed_sections": []
    },
    "accelerator": "GPU"
  },
  "cells": [
    {
      "cell_type": "markdown",
      "metadata": {
        "id": "ON8-V3VTyTDD",
        "colab_type": "text"
      },
      "source": [
        "# Deep Learning - DQN \n",
        "### Done by: Nicolas CHAHINE - nicolas.chahine@telecom-paris.fr"
      ]
    },
    {
      "cell_type": "markdown",
      "metadata": {
        "id": "QXW-MbVtrv5t",
        "colab_type": "text"
      },
      "source": [
        "**You may need to install [OpenCV](https://pypi.python.org/pypi/opencv-python) and [scikit-video](http://www.scikit-video.org/stable/).**"
      ]
    },
    {
      "cell_type": "code",
      "metadata": {
        "id": "8hbmMLyZHaRY",
        "colab_type": "code",
        "outputId": "059f9a6e-0ed4-446a-ed81-e10c87afef2d",
        "colab": {
          "base_uri": "https://localhost:8080/",
          "height": 419
        }
      },
      "source": [
        "!apt-get install --no-install-recommends ffmpeg && pip install ffmpeg scikit-video"
      ],
      "execution_count": 0,
      "outputs": [
        {
          "output_type": "stream",
          "text": [
            "Reading package lists... Done\n",
            "Building dependency tree       \n",
            "Reading state information... Done\n",
            "ffmpeg is already the newest version (7:3.4.6-0ubuntu0.18.04.1).\n",
            "The following package was automatically installed and is no longer required:\n",
            "  libnvidia-common-430\n",
            "Use 'apt autoremove' to remove it.\n",
            "0 upgraded, 0 newly installed, 0 to remove and 25 not upgraded.\n",
            "Collecting ffmpeg\n",
            "  Downloading https://files.pythonhosted.org/packages/f0/cc/3b7408b8ecf7c1d20ad480c3eaed7619857bf1054b690226e906fdf14258/ffmpeg-1.4.tar.gz\n",
            "Collecting scikit-video\n",
            "\u001b[?25l  Downloading https://files.pythonhosted.org/packages/b1/a6/c69cad508139a342810ae46e946ebb3256aa6e42f690d901bb68f50582e3/scikit_video-1.1.11-py2.py3-none-any.whl (2.3MB)\n",
            "\u001b[K     |████████████████████████████████| 2.3MB 4.9MB/s \n",
            "\u001b[?25hRequirement already satisfied: pillow in /usr/local/lib/python3.6/dist-packages (from scikit-video) (6.2.2)\n",
            "Requirement already satisfied: numpy in /usr/local/lib/python3.6/dist-packages (from scikit-video) (1.17.5)\n",
            "Requirement already satisfied: scipy in /usr/local/lib/python3.6/dist-packages (from scikit-video) (1.4.1)\n",
            "Building wheels for collected packages: ffmpeg\n",
            "  Building wheel for ffmpeg (setup.py) ... \u001b[?25l\u001b[?25hdone\n",
            "  Created wheel for ffmpeg: filename=ffmpeg-1.4-cp36-none-any.whl size=6084 sha256=b0c2f89864eaeeb1d49c11956e1f4b232caaffb418d0e7fa09aaa1151c691739\n",
            "  Stored in directory: /root/.cache/pip/wheels/b6/68/c3/a05a35f647ba871e5572b9bbfc0b95fd1c6637a2219f959e7a\n",
            "Successfully built ffmpeg\n",
            "Installing collected packages: ffmpeg, scikit-video\n",
            "Successfully installed ffmpeg-1.4 scikit-video-1.1.11\n"
          ],
          "name": "stdout"
        }
      ]
    },
    {
      "cell_type": "code",
      "metadata": {
        "id": "DOu9su-urv5u",
        "colab_type": "code",
        "outputId": "25e1c4b9-b6f4-4662-fd8c-6ee917deb40b",
        "colab": {
          "base_uri": "https://localhost:8080/",
          "height": 81
        }
      },
      "source": [
        "import keras\n",
        "import numpy as np\n",
        "import io\n",
        "import base64\n",
        "from IPython.display import HTML\n",
        "import skvideo \n",
        "# skvideo.setFFmpegPath('C:/FFmpeg/ffmpeg-4.1-win64-static/bin/')\n",
        "import skvideo.io\n",
        "import cv2\n",
        "import json\n",
        "\n",
        "from keras.models import Sequential,model_from_json\n",
        "from keras.layers.core import Dense\n",
        "from keras.optimizers import sgd\n",
        "from keras.layers import Conv2D, MaxPooling2D, Activation, AveragePooling2D,Reshape,BatchNormalization,Flatten"
      ],
      "execution_count": 0,
      "outputs": [
        {
          "output_type": "stream",
          "text": [
            "Using TensorFlow backend.\n"
          ],
          "name": "stderr"
        },
        {
          "output_type": "display_data",
          "data": {
            "text/html": [
              "<p style=\"color: red;\">\n",
              "The default version of TensorFlow in Colab will soon switch to TensorFlow 2.x.<br>\n",
              "We recommend you <a href=\"https://www.tensorflow.org/guide/migrate\" target=\"_blank\">upgrade</a> now \n",
              "or ensure your notebook will continue to use TensorFlow 1.x via the <code>%tensorflow_version 1.x</code> magic:\n",
              "<a href=\"https://colab.research.google.com/notebooks/tensorflow_version.ipynb\" target=\"_blank\">more info</a>.</p>\n"
            ],
            "text/plain": [
              "<IPython.core.display.HTML object>"
            ]
          },
          "metadata": {
            "tags": []
          }
        }
      ]
    },
    {
      "cell_type": "markdown",
      "metadata": {
        "id": "7tD0gjNZrv5y",
        "colab_type": "text"
      },
      "source": [
        "# MiniProject on Deep Reinforcement Learning\n",
        "### Done by: Nicolas CHAHINE - nicolas.chahine@telecom-paris.fr"
      ]
    },
    {
      "cell_type": "markdown",
      "metadata": {
        "id": "CCfiX09Crv5z",
        "colab_type": "text"
      },
      "source": [
        "__Notations__: $E_p$ is the expectation under probability $p$. Please justify each of your answer and widely comment your code."
      ]
    },
    {
      "cell_type": "markdown",
      "metadata": {
        "id": "zlHzBLs7rv50",
        "colab_type": "text"
      },
      "source": [
        "# Context"
      ]
    },
    {
      "cell_type": "markdown",
      "metadata": {
        "id": "eDIj4kQNrv51",
        "colab_type": "text"
      },
      "source": [
        "In a reinforcement learning algorithm, we modelize each step $t$ as an action $a_t$ obtained from a state $s_t$, i.e. $\\{(a_{t},s_{t})_{t\\leq T}\\}$ having the Markov property. We consider a discount factor $\\gamma \\in [0,1]$ that ensures convergence. The goal is to find among all the policies $\\pi$, one that maximizes the expected reward:\n",
        "\n",
        "\\begin{equation*}\n",
        "R(\\pi)=\\sum_{t\\leq T}E_{p^{\\pi}}[\\gamma^t r(s_{t},a_{t})] \\> ,\n",
        "\\end{equation*}\n",
        "\n",
        "where: \n",
        "\\begin{equation*}p^{\\pi}(a_{0},a_{1},s_{1},...,a_{T},s_{T})=p(a_{0})\\prod_{t=1}^{T}\\pi(a_{t}|s_{t})p(s_{t+1}|s_{t},a_{t}) \\> .\n",
        "\\end{equation*}\n",
        "\n",
        "We note the $Q$-function:\n",
        "\n",
        "\\begin{equation*}Q^\\pi(s,a)=E_{p^{\\pi}}[\\sum_{t\\leq T}\\gamma^{t}r(s_{t},a_{t})|s_{0}=s,a_{0}=a] \\> .\n",
        "\\end{equation*}\n",
        "\n",
        "Thus, the optimal Q function is:\n",
        "\\begin{equation*}\n",
        "Q^*(s,a)=\\max_{\\pi}Q^\\pi(s,a) \\> .\n",
        "\\end{equation*}\n",
        "\n",
        "In this project, we will apply the deep reinforcement learning techniques to a simple game: an agent will have to learn from scratch a policy that will permit it maximizing a reward."
      ]
    },
    {
      "cell_type": "markdown",
      "metadata": {
        "id": "qdPGFPAIrv52",
        "colab_type": "text"
      },
      "source": [
        "## The environment, the agent and the game"
      ]
    },
    {
      "cell_type": "markdown",
      "metadata": {
        "id": "7h4lUkGbrv52",
        "colab_type": "text"
      },
      "source": [
        "### The environment"
      ]
    },
    {
      "cell_type": "markdown",
      "metadata": {
        "id": "45Vu6MzIrv53",
        "colab_type": "text"
      },
      "source": [
        "```Environment``` is an abstract class that represents the states, rewards, and actions to obtain the new state."
      ]
    },
    {
      "cell_type": "code",
      "metadata": {
        "id": "tivf5u7irv54",
        "colab_type": "code",
        "colab": {}
      },
      "source": [
        "class Environment(object):\n",
        "    def __init__(self):\n",
        "        pass\n",
        "\n",
        "    def act(self, act):\n",
        "        \"\"\"\n",
        "        One can act on the environment and obtain its reaction:\n",
        "        - the new state\n",
        "        - the reward of the new state\n",
        "        - should we continue the game?\n",
        "\n",
        "        :return: state, reward, game_over\n",
        "        \"\"\"\n",
        "        pass\n",
        "\n",
        "\n",
        "    def reset(self):\n",
        "        \"\"\"\n",
        "        Reinitialize the environment to a random state and returns\n",
        "        the original state\n",
        "\n",
        "        :return: state\n",
        "        \"\"\"\n",
        "        pass\n",
        "    \n",
        "    def draw(self):\n",
        "        \"\"\"\n",
        "        Visualize in the console or graphically the current state\n",
        "        \"\"\"\n",
        "        pass"
      ],
      "execution_count": 0,
      "outputs": []
    },
    {
      "cell_type": "markdown",
      "metadata": {
        "id": "o5J1oHt0rv58",
        "colab_type": "text"
      },
      "source": [
        "The method ```act``` allows to act on the environment at a given state $s_t$ (stored internally), via action $a_t$. The method will return the new state $s_{t+1}$, the reward $r(s_{t},a_{t})$ and determines if $t\\leq T$ (*game_over*).\n",
        "\n",
        "The method ```reset``` simply reinitializes the environment to a random state $s_0$.\n",
        "\n",
        "The method ```draw``` displays the current state $s_t$ (this is useful to check the behavior of the Agent).\n",
        "\n",
        "We modelize $s_t$ as a tensor, while $a_t$ is an integer."
      ]
    },
    {
      "cell_type": "markdown",
      "metadata": {
        "id": "xZd7RWkWrv59",
        "colab_type": "text"
      },
      "source": [
        "### The Agent"
      ]
    },
    {
      "cell_type": "markdown",
      "metadata": {
        "id": "d1Ao3uoXrv59",
        "colab_type": "text"
      },
      "source": [
        "The goal of the ```Agent``` is to interact with the ```Environment``` by proposing actions $a_t$ obtained from a given state $s_t$ to attempt to maximize its __reward__ $r(s_t,a_t)$. We propose the following abstract class:"
      ]
    },
    {
      "cell_type": "code",
      "metadata": {
        "id": "OG4_LDskrv5-",
        "colab_type": "code",
        "colab": {}
      },
      "source": [
        "class Agent(object):\n",
        "    def __init__(self, epsilon=0.1, n_action=4):\n",
        "        self.epsilon = epsilon\n",
        "        self.n_action = n_action\n",
        "    \n",
        "    def set_epsilon(self,e):\n",
        "        self.epsilon = e\n",
        "\n",
        "    def act(self,s,train=True):\n",
        "        \"\"\" This function should return the next action to do:\n",
        "        an integer between 0 and 4 (not included) with a random exploration of epsilon\"\"\"\n",
        "        if train:\n",
        "            if np.random.rand() <= self.epsilon:\n",
        "                a = np.random.randint(0, self.n_action, size=1)[0]\n",
        "            else:\n",
        "                a = self.learned_act(s)\n",
        "        else: # in some cases, this can improve the performance.. remove it if poor performances\n",
        "            a = self.learned_act(s)\n",
        "\n",
        "        return a\n",
        "\n",
        "    def learned_act(self,s):\n",
        "        \"\"\" Act via the policy of the agent, from a given state s\n",
        "        it proposes an action a\"\"\"\n",
        "        pass\n",
        "\n",
        "    def reinforce(self, s, n_s, a, r, game_over_):\n",
        "        \"\"\" This function is the core of the learning algorithm. \n",
        "        It takes as an input the current state s_, the next state n_s_\n",
        "        the action a_ used to move from s_ to n_s_ and the reward r_.\n",
        "        \n",
        "        Its goal is to learn a policy.\n",
        "        \"\"\"\n",
        "        pass\n",
        "\n",
        "    def save(self):\n",
        "        \"\"\" This function returns basic stats if applicable: the\n",
        "        loss and/or the model\"\"\"\n",
        "        pass\n",
        "\n",
        "    def load(self):\n",
        "        \"\"\" This function allows to restore a model\"\"\"\n",
        "        pass"
      ],
      "execution_count": 0,
      "outputs": []
    },
    {
      "cell_type": "markdown",
      "metadata": {
        "id": "w40zBeaArv6B",
        "colab_type": "text"
      },
      "source": [
        "***\n",
        "__Question 1__:\n",
        "Explain the function act. Why is ```epsilon``` essential?"
      ]
    },
    {
      "cell_type": "markdown",
      "metadata": {
        "id": "fOvXIEYarv6C",
        "colab_type": "text"
      },
      "source": [
        "**Answer 1:** The epsilon parameter is essential to modelize the exploration - exploitation dilemma. On one hand, a random action is taken by the agent with a chance epsilon (which contributes in the exploration). On the other hand, the agent takes an action according to the current policy for a probability 1-epsilon (which favors exploitation). Therefore, with a probability epsilon, we try to discover the outcome of actions chosen randomly, whereas with probability 1-epsilon we choose the best action at the given state to maximize the expected reward. This tradeoff favors the learning of the agent over time; with the Exploration process we make sure that we have chosen the right policy because we discover every possible outcome and the Exploitation will maximize the reward along the way."
      ]
    },
    {
      "cell_type": "markdown",
      "metadata": {
        "id": "JXcVZCWKrv6D",
        "colab_type": "text"
      },
      "source": [
        "***\n",
        "### The Game"
      ]
    },
    {
      "cell_type": "markdown",
      "metadata": {
        "id": "vwk6z3UHrv6E",
        "colab_type": "text"
      },
      "source": [
        "The ```Agent``` and the ```Environment``` work in an interlaced way as in the following (take some time to understand this code as it is the core of the project)\n",
        "\n",
        "```python\n",
        "\n",
        "epoch = 300\n",
        "env = Environment()\n",
        "agent = Agent()\n",
        "\n",
        "\n",
        "# Number of won games\n",
        "score = 0\n",
        "loss = 0\n",
        "\n",
        "\n",
        "for e in range(epoch):\n",
        "    # At each epoch, we restart to a fresh game and get the initial state\n",
        "    state = env.reset()\n",
        "    # This assumes that the games will end\n",
        "    game_over = False\n",
        "\n",
        "    win = 0\n",
        "    lose = 0\n",
        "    \n",
        "    while not game_over:\n",
        "        # The agent performs an action\n",
        "        action = agent.act(state)\n",
        "\n",
        "        # Apply an action to the environment, get the next state, the reward\n",
        "        # and if the games end\n",
        "        prev_state = state\n",
        "        state, reward, game_over = env.act(action)\n",
        "\n",
        "        # Update the counters\n",
        "        if reward > 0:\n",
        "            win = win + reward\n",
        "        if reward < 0:\n",
        "            lose = lose -reward\n",
        "\n",
        "        # Apply the reinforcement strategy\n",
        "        loss = agent.reinforce(prev_state, state,  action, reward, game_over)\n",
        "\n",
        "    # Save as a mp4\n",
        "    if e % 10 == 0:\n",
        "        env.draw(e)\n",
        "\n",
        "    # Update stats\n",
        "    score += win-lose\n",
        "\n",
        "    print(\"Epoch {:03d}/{:03d} | Loss {:.4f} | Win/lose count {}/{} ({})\"\n",
        "          .format(e, epoch, loss, win, lose, win-lose))\n",
        "    agent.save()\n",
        "```"
      ]
    },
    {
      "cell_type": "markdown",
      "metadata": {
        "id": "XpmpliSWrv6E",
        "colab_type": "text"
      },
      "source": [
        "# The game, *eat cheese*"
      ]
    },
    {
      "cell_type": "markdown",
      "metadata": {
        "id": "3aU-93-crv6F",
        "colab_type": "text"
      },
      "source": [
        "A rat runs on an island and tries to eat as much as possible. The island is subdivided into $N\\times N$ cells, in which there are cheese (+0.5) and poisonous cells (-1). The rat has a visibility of 2 cells (thus it can see $5^2$ cells). The rat is given a time $T$ to accumulate as much food as possible. It can perform 4 actions: going up, down, left, right. \n",
        "\n",
        "The goal is to code an agent to solve this task that will learn by trial and error. We propose the following environment:"
      ]
    },
    {
      "cell_type": "code",
      "metadata": {
        "id": "FF8FYrLFrv6G",
        "colab_type": "code",
        "colab": {}
      },
      "source": [
        "class Environment(object):\n",
        "    def __init__(self, grid_size=10, max_time=500, temperature=0.1):\n",
        "        grid_size = grid_size+4\n",
        "        self.grid_size = grid_size\n",
        "        self.max_time = max_time\n",
        "        self.temperature = temperature\n",
        "\n",
        "        #board on which one plays\n",
        "        self.board = np.zeros((grid_size,grid_size))\n",
        "        self.position = np.zeros((grid_size,grid_size))\n",
        "\n",
        "        # coordinate of the cat\n",
        "        self.x = 0\n",
        "        self.y = 1\n",
        "\n",
        "        # self time\n",
        "        self.t = 0\n",
        "\n",
        "        self.scale=16\n",
        "\n",
        "        self.to_draw = np.zeros((max_time+2, grid_size*self.scale, grid_size*self.scale, 3))\n",
        "\n",
        "\n",
        "    def draw(self,e):\n",
        "        skvideo.io.vwrite(str(e) + '.mp4', self.to_draw)\n",
        "\n",
        "    def get_frame(self,t):\n",
        "        b = np.zeros((self.grid_size,self.grid_size,3))+128\n",
        "        b[self.board>0,0] = 256\n",
        "        b[self.board < 0, 2] = 256\n",
        "        b[self.x,self.y,:]=256\n",
        "        b[-2:,:,:]=0\n",
        "        b[:,-2:,:]=0\n",
        "        b[:2,:,:]=0\n",
        "        b[:,:2,:]=0\n",
        "        \n",
        "        b =  cv2.resize(b, None, fx=self.scale, fy=self.scale, interpolation=cv2.INTER_NEAREST)\n",
        "\n",
        "        self.to_draw[t,:,:,:]=b\n",
        "\n",
        "\n",
        "    def act(self, action):\n",
        "        \"\"\"This function returns the new state, reward and decides if the\n",
        "        game ends.\"\"\"\n",
        "\n",
        "        self.get_frame(int(self.t))\n",
        "\n",
        "        self.position = np.zeros((self.grid_size, self.grid_size))\n",
        "\n",
        "        self.position[0:2,:]= -1\n",
        "        self.position[:,0:2] = -1\n",
        "        self.position[-2:, :] = -1\n",
        "        self.position[-2:, :] = -1\n",
        "\n",
        "        self.position[self.x, self.y] = 1\n",
        "        if action == 0:\n",
        "            if self.x == self.grid_size-3:\n",
        "                self.x = self.x-1\n",
        "            else:\n",
        "                self.x = self.x + 1\n",
        "        elif action == 1:\n",
        "            if self.x == 2:\n",
        "                self.x = self.x+1\n",
        "            else:\n",
        "                self.x = self.x-1\n",
        "        elif action == 2:\n",
        "            if self.y == self.grid_size - 3:\n",
        "                self.y = self.y - 1\n",
        "            else:\n",
        "                self.y = self.y + 1\n",
        "        elif action == 3:\n",
        "            if self.y == 2:\n",
        "                self.y = self.y + 1\n",
        "            else:\n",
        "                self.y = self.y - 1\n",
        "        else:\n",
        "            RuntimeError('Error: action not recognized')\n",
        "\n",
        "        self.t = self.t + 1\n",
        "        reward = self.board[self.x, self.y]\n",
        "        self.board[self.x, self.y] = 0\n",
        "        game_over = self.t > self.max_time\n",
        "        state = np.concatenate((self.board.reshape(self.grid_size, self.grid_size,1),\n",
        "                        self.position.reshape(self.grid_size, self.grid_size,1)),axis=2)\n",
        "        state = state[self.x-2:self.x+3,self.y-2:self.y+3,:]\n",
        "\n",
        "        return state, reward, game_over\n",
        "\n",
        "    def reset(self):\n",
        "        \"\"\"This function resets the game and returns the initial state\"\"\"\n",
        "\n",
        "        self.x = np.random.randint(3, self.grid_size-3, size=1)[0]\n",
        "        self.y = np.random.randint(3, self.grid_size-3, size=1)[0]\n",
        "\n",
        "\n",
        "        bonus = 0.5*np.random.binomial(1,self.temperature,size=self.grid_size**2)\n",
        "        bonus = bonus.reshape(self.grid_size,self.grid_size)\n",
        "\n",
        "        malus = -1.0*np.random.binomial(1,self.temperature,size=self.grid_size**2)\n",
        "        malus = malus.reshape(self.grid_size, self.grid_size)\n",
        "\n",
        "        self.to_draw = np.zeros((self.max_time+2, self.grid_size*self.scale, self.grid_size*self.scale, 3))\n",
        "\n",
        "\n",
        "        malus[bonus>0]=0\n",
        "\n",
        "        self.board = bonus + malus\n",
        "\n",
        "        self.position = np.zeros((self.grid_size, self.grid_size))\n",
        "        self.position[0:2,:]= -1\n",
        "        self.position[:,0:2] = -1\n",
        "        self.position[-2:, :] = -1\n",
        "        self.position[-2:, :] = -1\n",
        "        self.board[self.x,self.y] = 0\n",
        "        self.t = 0\n",
        "\n",
        "        state = np.concatenate((\n",
        "                               self.board.reshape(self.grid_size, self.grid_size,1),\n",
        "                        self.position.reshape(self.grid_size, self.grid_size,1)),axis=2)\n",
        "\n",
        "        state = state[self.x - 2:self.x + 3, self.y - 2:self.y + 3, :]\n",
        "        return state"
      ],
      "execution_count": 0,
      "outputs": []
    },
    {
      "cell_type": "markdown",
      "metadata": {
        "id": "BXZNJN2brv6I",
        "colab_type": "text"
      },
      "source": [
        "The following elements are important because they correspond to the hyper parameters for this project:"
      ]
    },
    {
      "cell_type": "code",
      "metadata": {
        "id": "OZYwnQP5rv6J",
        "colab_type": "code",
        "colab": {}
      },
      "source": [
        "# parameters\n",
        "size = 13\n",
        "T=200\n",
        "temperature=0.3\n",
        "epochs_train=50 # set small when debugging\n",
        "epochs_test=10 # set small when debugging\n",
        "\n",
        "# display videos\n",
        "def display_videos(name):\n",
        "    video = io.open(name, 'r+b').read()\n",
        "    encoded = base64.b64encode(video)\n",
        "    return '''<video alt=\"test\" controls>\n",
        "                <source src=\"data:video/mp4;base64,{0}\" type=\"video/mp4\" />\n",
        "             </video>'''.format(encoded.decode('ascii'))"
      ],
      "execution_count": 0,
      "outputs": []
    },
    {
      "cell_type": "markdown",
      "metadata": {
        "id": "O1rfpIB8rv6M",
        "colab_type": "text"
      },
      "source": [
        "__Question 2__ Explain the use of the arrays ```position``` and ```board```."
      ]
    },
    {
      "cell_type": "markdown",
      "metadata": {
        "id": "mg_P-7_Mrv6N",
        "colab_type": "text"
      },
      "source": [
        "**Answer 2:** The board represents the rewards in the NxN cells of the island and the position is used to save the position of the rat before taking the action. In more details, we can explain the use of these arrays as follows: \n",
        "- The init method is passed a parameter grid_size, on which we add a value of 4 and construct the 2d arrays position and board of size (grid_size,grid_size). The 4 that has been added is a 2 cell padding((left, right) \\ (up,bottom)) for the padding on the edges. Because it is just a padding, in the rest of the code the rat is not allowed to go there: the position values are set to -1 and the conditions in the act method ensure that this is a restricted area.\n",
        "- When the game starts, we have seen that there is a call to the env.reset() method. In this method, some values in the board are set to 0.5 and some to -1 randomly from a bernouilli distribution with probability equal to temperature(and the overlap is taken as 0.5). The value of the board on the current position is set to 0. \n",
        "- In the act method, the current (x,y) coordinates are stored in position. When the rat takes an action and arrives to a new (x,y) coordinate, position is not updated(its purpose is to store the old coordinates). The board value is set to 0 in the new position (symbolising that the rat has eaten the cheese or the poison if available, but it can eat it only once at a specific position).\n",
        "- The 5x5 patch surrounding the final position of the rat and containing the board and position values ( the surrounding rewards and the previous position) are passed as a state tensor."
      ]
    },
    {
      "cell_type": "markdown",
      "metadata": {
        "id": "KA9P1bEErv6O",
        "colab_type": "text"
      },
      "source": [
        "## Random Agent"
      ]
    },
    {
      "cell_type": "markdown",
      "metadata": {
        "id": "I0vdr8GMrv6O",
        "colab_type": "text"
      },
      "source": [
        "***\n",
        "__Question 3__ Implement a random Agent (only ```learned_act``` needs to be implemented):"
      ]
    },
    {
      "cell_type": "code",
      "metadata": {
        "id": "UukdAFFfrv6P",
        "colab_type": "code",
        "colab": {}
      },
      "source": [
        "class RandomAgent(Agent):\n",
        "    def __init__(self):\n",
        "        super(RandomAgent, self).__init__()\n",
        "        pass\n",
        "\n",
        "    def learned_act(self, s):\n",
        "        return np.random.randint(0, self.n_action, size=1)[0]"
      ],
      "execution_count": 0,
      "outputs": []
    },
    {
      "cell_type": "markdown",
      "metadata": {
        "id": "Y97XyhOQrv6R",
        "colab_type": "text"
      },
      "source": [
        "***\n",
        "***\n",
        "__Question 4__ Visualize the game moves. You need to fill in the following function for the evaluation:"
      ]
    },
    {
      "cell_type": "code",
      "metadata": {
        "id": "ZKRr0ZFBrv6S",
        "colab_type": "code",
        "colab": {}
      },
      "source": [
        "def test(agent,env,epochs,prefix=''):\n",
        "    # Number of won games\n",
        "    score = 0\n",
        "        \n",
        "    for e in range(epochs):\n",
        "        # At each epoch, we restart to a fresh game and get the initial state\n",
        "        state = env.reset()\n",
        "        # This assumes that the games will end\n",
        "        game_over = False\n",
        "        win = 0\n",
        "        lose = 0\n",
        "        \n",
        "        while not game_over:\n",
        "            # The agent takes an action\n",
        "            action = agent.act(state)\n",
        "\n",
        "            # get the next state and the reward\n",
        "            state, reward, game_over = env.act(action)\n",
        "\n",
        "            # Update the counters\n",
        "            if reward > 0:\n",
        "                win = win + reward\n",
        "            if reward < 0:\n",
        "                lose = lose - reward\n",
        "\n",
        "         # Save as a mp4\n",
        "        env.draw(prefix+str(e))\n",
        "\n",
        "        # Update stats\n",
        "        score = score + win-lose\n",
        "\n",
        "        print(\"Win/lose count {}/{}. Average score ({})\"\n",
        "              .format(win, lose, score/(1+e)))\n",
        "    print('Final score: '+str(score/epochs))"
      ],
      "execution_count": 0,
      "outputs": []
    },
    {
      "cell_type": "code",
      "metadata": {
        "id": "XX8MPE5xrv6V",
        "colab_type": "code",
        "outputId": "8b3c6124-1a30-4952-a8c7-f1df890bd5db",
        "colab": {
          "base_uri": "https://localhost:8080/",
          "height": 485
        }
      },
      "source": [
        "# Initialize the game\n",
        "env = Environment(grid_size=size, max_time=T,temperature=temperature)\n",
        "\n",
        "# Initialize the agent!\n",
        "agent = RandomAgent()\n",
        "\n",
        "test(agent,env,epochs_test,prefix='random')\n",
        "HTML(display_videos('random0.mp4'))"
      ],
      "execution_count": 0,
      "outputs": [
        {
          "output_type": "stream",
          "text": [
            "Win/lose count 10.0/12.0. Average score (-2.0)\n",
            "Win/lose count 13.0/14.0. Average score (-1.5)\n",
            "Win/lose count 10.5/15.0. Average score (-2.5)\n",
            "Win/lose count 8.0/15.0. Average score (-3.625)\n",
            "Win/lose count 8.5/14.0. Average score (-4.0)\n",
            "Win/lose count 10.0/10.0. Average score (-3.3333333333333335)\n",
            "Win/lose count 14.0/13.0. Average score (-2.7142857142857144)\n",
            "Win/lose count 7.5/6.0. Average score (-2.1875)\n",
            "Win/lose count 14.5/13.0. Average score (-1.7777777777777777)\n",
            "Win/lose count 12.5/8.0. Average score (-1.15)\n",
            "Final score: -1.15\n"
          ],
          "name": "stdout"
        },
        {
          "output_type": "execute_result",
          "data": {
            "text/html": [
              "<video alt=\"test\" controls>\n",
              "                <source src=\"data:video/mp4;base64,AAAAIGZ0eXBpc29tAAACAGlzb21pc28yYXZjMW1wNDEAAAAIZnJlZQAAGQltZGF0AAACrQYF//+p3EXpvebZSLeWLNgg2SPu73gyNjQgLSBjb3JlIDE1MiByMjg1NCBlOWE1OTAzIC0gSC4yNjQvTVBFRy00IEFWQyBjb2RlYyAtIENvcHlsZWZ0IDIwMDMtMjAxNyAtIGh0dHA6Ly93d3cudmlkZW9sYW4ub3JnL3gyNjQuaHRtbCAtIG9wdGlvbnM6IGNhYmFjPTEgcmVmPTMgZGVibG9jaz0xOjA6MCBhbmFseXNlPTB4MToweDExMSBtZT1oZXggc3VibWU9NyBwc3k9MSBwc3lfcmQ9MS4wMDowLjAwIG1peGVkX3JlZj0xIG1lX3JhbmdlPTE2IGNocm9tYV9tZT0xIHRyZWxsaXM9MSA4eDhkY3Q9MCBjcW09MCBkZWFkem9uZT0yMSwxMSBmYXN0X3Bza2lwPTEgY2hyb21hX3FwX29mZnNldD00IHRocmVhZHM9MyBsb29rYWhlYWRfdGhyZWFkcz0xIHNsaWNlZF90aHJlYWRzPTAgbnI9MCBkZWNpbWF0ZT0xIGludGVybGFjZWQ9MCBibHVyYXlfY29tcGF0PTAgY29uc3RyYWluZWRfaW50cmE9MCBiZnJhbWVzPTMgYl9weXJhbWlkPTIgYl9hZGFwdD0xIGJfYmlhcz0wIGRpcmVjdD0xIHdlaWdodGI9MSBvcGVuX2dvcD0wIHdlaWdodHA9MiBrZXlpbnQ9MjUwIGtleWludF9taW49MjUgc2NlbmVjdXQ9NDAgaW50cmFfcmVmcmVzaD0wIHJjX2xvb2thaGVhZD00MCByYz1jcmYgbWJ0cmVlPTEgY3JmPTIzLjAgcWNvbXA9MC42MCBxcG1pbj0wIHFwbWF4PTY5IHFwc3RlcD00IGlwX3JhdGlvPTEuNDAgYXE9MToxLjAwAIAAAANYZYiEADf//vaH+BTZWBP+Wb/9DX/cj9uPrP1xYyEE31qvIejAGS+1H+b/rFFs6Z6UB/fgCJQAc24ZwpJw4v/ApLdW+BTLYTnE+Uwo5XT/KBbJHQMxCOjSmWlprSxpTysNfJl6X3ZR2TV+5gOiY8PQgCGxBXJuSwWNJEwjBw/UKHDbIGCKB/aHrN0PDJoZ8OdEEMCEYFVYQlLzNFM853d0yGCaFtZ0mUNcm0j30umfIjCiaa6r1Gti+aj7ke9D4gJOwGTNXvBzVzuEiHdVyBV7tRsB2is7503QYTExprgCOLzV5NmRy16x+FMdj+9twwgUpEdpxLiCflg2xkjgYHvHwYN3iUrmCQZsXGBe8IfNb9f3MY+mtIOq+7OfgYNzo8QDKACC09aYlubX05JF+M+NB1Xea2FNoKRJMMOy4H3GLoVclflXVF+pMIn9/Dl/1WPwDavRFs32mEhkuROuxg6/jQZKLzAXMYm9nPLlEAfJVaNAPUQKSRdJOEfSt3pNt7f8Xg90gU6eO8/P5E7TODQDmqcMOfAw385vyV5/roKDrXnZbpxJ6DJjhAMMrKG6Fj3JkyMkcQb1euhGtr+ATfiANwTdirDU82ABZcT0iUvISypCpgIxgmQZdnWYhQP8mFz3dJfOAE6mh4SxBMFhsk4HrUvKQzV63mdb4MrtjHWwlkTizKpi7V5jTIEHuXWpl2Op06Izx3xD8f7P73krAWod0d4pRFJQT61IB1gNaD9jqHFgJuqj5uj9r5Xos2B9rPihH/PwPm6/urV0IHDeFOf9bTa3ptRkonHqOAhB1WyiMb+anHOeFskptEtNIerZHw1ykG6YSLf/tdkNkYhPyfZm/LEdMSf3Jt9EpbZW1iEbNehdN2uMfblNGLeyIwnaW/8zNXzgGiF7YjsRpXle2plCJY4eUcuiD3qVO7mmlZQgGmsNGr3mgEZVcxQsQ4hrzgflst9iJ6wGyz5Q8/QXigUg/M+15HOjMkosmVGbQiJL40tUffBmdOmNZjggPuMmDchWV9ZnR0U5OshvyEMtYWlZTbyyiGi8yZtDD0JBAWKhIt8qHpTzmPxsZ6H88AS/ER5vaNSE9mh5nAgFO7eU9nWKM9baTbYzBAJkRLDn+SIiEolW06CT8YAEzQAAABNBmiFsQ3/+p4QBHfjpk8H1bbK+AAAAEEGaQzwhkymEN//+p4QAAScAAAAPAZ5iakK/AOJXzQ60VOuAAAAAH0GaZ0nhDyZTAhv//qeEBx88TmWWJkdlcHRHv4MZ7x8AAAAVQZ6FRRE8L/8Bo552Usj92sI+hl2zAAAAEAGepHRCvwFazRInxZijUvEAAAAPAZ6makK/AjLqnkwKnrsvAAAAGUGaqEmoQWiZTAhv//6nhAcfRz6zoLc+UXcAAAAZQZrJSeEKUmUwId/+qZYA+/Rj8U5CmDStoAAAABFBmu1J4Q6JlMCG//6nhAABJwAAABNBnwtFETwv/wCoZLcpmPmIirJeAAAAEAGfKnRCvwDntga2mUPR4MAAAAAQAZ8sakK/AOdzhr3mlZtFwQAAABpBmy5JqEFomUwId//+qZYAkBRzrQ9X3yFFwQAAABtBm1JJ4QpSZTAhv/6nhAEl+Onu83PGAFPp6TkAAAAQQZ9wRTRML/8AsTG24ezvyAAAABABn490Qr8A7TYGtplD0d5AAAAAEAGfkWpCvwDtGoc/zLd+7MEAAAAcQZuVSahBaJlMCG///qeEASRAFm22fZ8xW3ObaAAAABJBn7NFESwr/wDtM76x+C/Nb0AAAAAOAZ/UakK/AO0zxbP1KtMAAAAcQZvZSahBbJlMCG///qeEASX46fdaWZqbdFrN+AAAABBBn/dFFSwv/wCxMsVCCf8xAAAAEAGeFnRCvwDytga2mUPR3EEAAAAPAZ4YakK/APKah0LRtQ7AAAAAHUGaG0moQWyZTBRMM//+nhAC++6b7SqFy62atiXhAAAAEAGeOmpCvwCfNuiqzj8BnrAAAAAZQZo8SeEKUmUwIb/+p4QAef2D/CcFuhJdwQAAABhBml1J4Q6JlMCG//6nhABRsVpBCJ/ltzMAAAAZQZp+SeEPJlMCHf/+qZYAKlpZXGaX9sBTQAAAAB9BmoJJ4Q8mUwId//6plgBCfjz+RelpCLpnRAtxrlpAAAAAFUGeoEURPC//AE+lY6XGqQDA6EqSmQAAABABnt90Qr8AbCRZV4EV28CAAAAAEAGewWpCvwBsCW068AT+xoEAAAAgQZrGSahBaJlMCG///qeEADd+wfzaQS2QZVAimLzE04AAAAAVQZ7kRREsL/8AILPfWW/SMfTOVzyPAAAADwGfA3RCvwAtacoUm2SrJwAAABABnwVqQr8ALEo0TImlZx3BAAAAHEGbCEmoQWyZTBRMN//+p4QAVAKmZrcZvdT4uZUAAAAPAZ8nakK/AEN2eW4bNqcjAAAAGEGbK0nhClJlMCG//qeEAFR91OP8Pq23KwAAABJBn0lFNEwr/wBpoaXd39IrXkEAAAAOAZ9qakK/AGmJcZg4GvIAAAAaQZtuSahBaJlMCG///qeEAHwOM/1W+Y/ENSAAAAARQZ+MRREsK/8AZx2n/RyRVP8AAAAQAZ+takK/AGcdU8mB69vKgQAAABpBm69JqEFsmUwIb//+p4QAwtIn+q3zH4hDwQAAABtBm9NJ4QpSZTAhn/6eEARwQ502C9Edff0vRsAAAAAQQZ/xRTRML/8AsVAitKJ/zAAAAA8BnhB0Qr8A8tisYQq1DsEAAAAQAZ4SakK/AO0z5jdDkg4oOAAAABpBmhRJqEFomUwIb//+p4QCIhBZtkk0/TCLgAAAABhBmjVJ4QpSZTAhv/6nhAJBFaQQif4U8f8AAAAaQZpXSeEOiZTBTRMN//6nhAJJ3U/XqVl9BIwAAAAPAZ52akK/AX8lpUigSqIvAAAAG0GaeUnhDyZTBTw7//6plgEFvEI6jd2l/Wsj4QAAABABnphqQr8BbLIhNxn16aj4AAAAEkGanUnhDyZTAh3//qmWAACVgQAAAAxBnrtFETwv/wAAsoAAAAAPAZ7adEK/AWiyjiOy7Kj/AAAAEAGe3GpCvwJIahz+rw43nYEAAAAcQZrBSahBaJlMCG///qeEBuPmqaza0vRP8CBQwAAAABBBnv9FESwv/wGjn6L7AveEAAAADwGfHnRCvwJJYrGC/tBzQQAAABABnwBqQr8CR84a95XCfGLAAAAAGkGbA0moQWyZTBRMN//+p4QHH0c+zxuFeDFhAAAAEAGfImpCvwIyTFdN9JBpHHAAAAAYQZsmSeEKUmUwIb/+p4QCC+OmP8Pqo2LLAAAAEUGfREU0TCv/AXWlG80LB9mPAAAADgGfZWpCvwF1bGMm5JMfAAAAGkGbZ0moQWiZTAhv//6nhAHx6J/a2C3QUraBAAAAG0GbiknhClJlMCG//qeEARwfMeRif5bJS489IAAAABJBn6hFNEwr/wDnsxewsF+WeMAAAAAQAZ/JakK/AOezwh40NYyqgQAAABxBm8xJqEFomUwU8N/+p4QBHfjp91pZmpt0Ws5YAAAAEAGf62pCvwDtK4NceKto7yAAAAAZQZvvSeEKUmUwIb/+p4QAwrq0ghE/y2z7gQAAABJBng1FNEwr/wCfWFewsF+WtIEAAAAQAZ4uakK/AJ9Y8tw2bUz1gQAAABpBmjBJqEFomUwIb//+p4QAx7q0ghE/y2z1gAAAACJBmlJJ4QpSZTBREsN//qeEATwfM1NmFW3JlZuf/0sPp3XcAAAADwGecWpCvwD+2I8mB69tQQAAABpBmnNJ4Q6JlMCHf/6plgFHaQk2tItP/FqdgAAAABpBmpdJ4Q8mUwIb//6nhAKJCv5j9A9CH+4rKAAAABBBnrVFETwv/wEmnrXFzGyhAAAAEAGe1HRCvwGTAADJLf62Z8AAAAAPAZ7WakK/AP55ompKbPmBAAAAHEGa20moQWiZTAhv//6nhAE1+On3Wlmam3RazVkAAAAQQZ75RREsL/8AulAitKJ/dAAAAA8Bnxh0Qr8BibKu7zdp40EAAAAQAZ8aakK/AP7NG80xVtHXwAAAABlBmxxJqEFsmUwIb//+p4QAzfsHr2Z8EV1TAAAAGEGbP0nhClJlMCG//qeEAMj7B69mfBFdWwAAAA9Bn11FNEwr/wCjtbhrZUAAAAAPAZ9+akK/AJ9ysC6/v5JAAAAAGkGbYkmoQWiZTAhv//6nhADD+wf4Tgt0JHTBAAAAEkGfgEURLCv/AJ81851k+TbPgAAAABABn6FqQr8Amsshh9ASDiz5AAAAGkGbo0moQWyZTAh3//6plgA+vtL+d0hTCJbQAAAAGUGbxknhClJlMCHf/qmWACl++r67EG4qDdEAAAAPQZ/kRTRMK/8AQWVwJQLBAAAADwGeBWpCvwAsSjRNSU47gQAAAB9BmgpJqEFomUwIb//+p4QANP7B/Npdtpy+tmKEiSFNAAAAEUGeKEURLC//AB8PtCrmluFAAAAAEAGeR3RCvwArKa0ZJb/XN0AAAAAPAZ5JakK/ABugWNgcp1OBAAAAIUGaTEmoQWyZTBRMO//+qZYAEJ+R2//cvsJV6WcoNxcfDAAAAA8BnmtqQr8AGwJaVIoEq+kAAAARQZpwSeEKUmUwIb/+p4QAAScAAAAUQZ6ORTRML/8AEtj59Fiuwl1+TB0AAAAQAZ6tdEK/ABnJNCJ8WYpDmQAAABABnq9qQr8AGcJkmm+kg5twAAAAIUGaskmoQWiZTBTw3/6nhAAgo+ZqbMKt5ZNNi9YdPqWegAAAABABntFqQr8AGwdU8mB694CBAAAAGUGa1UnhClJlMCG//qeEACDfHT6jjQkOZUAAAAAPQZ7zRTRMK/8AGwJazWOgAAAADQGfFGpCvwAbCxYeKx0AAAAZQZsWSahBaJlMCG///qeEABYcVpBCJ/lumwAAABxBmzpJ4QpSZTAhv/6nhAAgqsCzbmvHT7UNLl75AAAAFEGfWEU0TC//ABPqBFPAOV25F0ppAAAADwGfd3RCvwAR12UKTbJWdwAAABABn3lqQr8AGwdqOV/biA/BAAAAG0GbfEmoQWiZTBTw3/6nhABPfRkPVoF7qfJGUAAAABABn5tqQr8AP4zwLr+3D8uhAAAAGEGbnUnhClJlMCG//qeEAE/91OP8Pq23OwAAAB5Bm79J4Q6JlMFNEw3//qeEAE2+On2q8tnwo1uiWIEAAAAPAZ/eakK/AD4g/qkUCVWpAAAAGEGbwknhDyZTAhv//qeEADIurR1UNtv1gQAAABJBn+BFETwr/wAo9hXsLBfmL4AAAAAQAZ4BakK/ACj2PLcNm1PwgQAAABlBmgVJqEFomUwIZ//+nhABLThHP4c5vrP+AAAAEkGeI0URLCv/AD4s+Zbw3IOPzQAAABABnkRqQr8AP3zhr3mlZv5hAAAAGkGaRkmoQWyZTAhv//6nhAB2jjP9VvmPxDehAAAAGEGaZ0nhClJlMCG//qeEAHc9g9ezPgivHwAAABlBmohJ4Q6JlMCHf/6plgBbfkGaAPSX1/swAAAAG0GarEnhDyZTAh3//qmWAFv99Xv83f53rKfy8AAAABFBnspFETwv/wBsFScINd0jtQAAAA8Bnul0Qr8AktoQGSXKoIAAAAAQAZ7rakK/AJbmjeaYq2kKwAAAABJBmvBJqEFomUwIb//+p4QAAScAAAAMQZ8ORREsL/8AALKBAAAAEAGfLXRCvwBg85OI7Lsq7oEAAAAQAZ8vakK/AJba13WQw5IRgAAAABpBmzFJqEFsmUwId//+qZYAO/7S8LUE/sA5oAAAABpBm1VJ4QpSZTAh3/6plgBdxDhJuUb48+hQeQAAABBBn3NFNEwv/wBulXd/m7+4AAAADwGfknRCvwBfklEKYIutgAAAAA8Bn5RqQr8Aluzy3DZtTQMAAAAaQZuYSahBaJlMCHf//qmWAJAiw3RiEc+v4eAAAAASQZ+2RREsK/8A57O+hbkiqOOBAAAAEAGf12pCvwDnsweTA9e2soEAAAAaQZvbSahBbJlMCHf//qmWAQWLDdFbhR8krKAAAAAPQZ/5RRUsK/8BbG3AksfBAAAADQGeGmpCvwFs5WHilj4AAAASQZofSahBbJlMCG///qeEAAEnAAAADEGePUUVLC//AACygQAAABABnlx0Qr8CSWKxejQON52AAAAADwGeXmpCvwFoso3WerPRvQAAABpBmkBJqEFsmUwId//+qZYBCPHn7t2HSAxHwQAAABtBmmRJ4QpSZTAh3/6plgCQ/Hn8zQqBaKYhowIAAAAQQZ6CRTRML/8ArLLFQgn/4QAAABABnqF0Qr8A53FmeV+Smy3oAAAADwGeo2pCvwDtGodC0bUQwQAAABpBmqdJqEFomUwId//+qZYAlCLDdGIRz6/g4QAAABJBnsVFESwr/wDtM76FuSKo3oEAAAAQAZ7makK/AO0zB5MD17atgQAAABxBmutJqEFsmUwIb//+p4QCBHzVNZtqXjp9mB0wAAAAEEGfCUUVLC//AQagOXkT6mAAAAAQAZ8odEK/AXXoBztjjTPk4QAAAA8BnypqQr8BbOVgXX9+x8AAAAAdQZstSahBbJlMFEw7//6plgEI8efxaNTqEG4MddwAAAAPAZ9MakK/AWxtulGkPEm1AAAAGUGbUEnhClJlMCHf/qmWAIz8edLOjqeRR8EAAAAPQZ9uRTRMK/8A4gK4a0fBAAAADQGfj2pCvwDiV+MKWj4AAAAXQZuUSahBaJlMCG///qeEAQX46fa4z4AAAAAOQZ+yRREsL/8AnzKgN6EAAAAQAZ/RdEK/ANpnJxHZdlTUgAAAABABn9NqQr8BWo2u6yGHI33AAAAAHUGb1kmoQWyZTBRMN//+p4QB678DwZtom9g/V5OxAAAAEAGf9WpCvwFjsI8mB69s6YAAAAAcQZv4SeEKUmUwUsN//qeEB6xmamzave8dO+MqoQAAABABnhdqQr8CSMweTAm7nPmBAAAAGEGaG0nhDomUwIb//qeEB+9HNBWsxfnD0gAAABFBnjlFFTwr/wJerg1xlgTZWwAAAA4BnlpqQr8CXgzGTbFjugAAABxBml1JqEFomUwU8N/+p4QHH0c+y1a8KNbl0TehAAAAEAGefGpCvwIyR251njgyaMEAAAAYQZp+SeEKUmUwIb/+p4QB2+wevZnwH+nrAAAAHkGagEnhDomUwU0TDf/+p4QBxu+z3vjsn/hRrc59qwAAABABnr9qQr8BUWvnOtDC8OpBAAAAFkGapEnhDyZTAhn//p4QA8XrjcQU5YAAAAAOQZ7CRRE8L/8AltABa2EAAAAQAZ7hdEK/ANBnJxHZdlTegAAAAA8BnuNqQr8A0Gcm6z1Z6YEAAAAbQZrlSahBaJlMCGf//p4QBncGOftvdQIT+yFbAAAAF0GbBknhClJlMCGf/p4QBrd7jBHWy8m5AAAAGkGbKUvhCEOiRGCCgH8gH9h4AhX//jhAABFxAAAAJkGfR0URPCv/Aq9j7UHE3bLB05aAwjmvPLxVbJUqY3+T4XF3d6pgAAAAIgGfaGpCvwKvY+1BxN4HRIB2X9h0sBplERBXZayQFixzgZgAAAu4bW9vdgAAAGxtdmhkAAAAAAAAAAAAAAAAAAAD6AAAH5AAAQAAAQAAAAAAAAAAAAAAAAEAAAAAAAAAAAAAAAAAAAABAAAAAAAAAAAAAAAAAABAAAAAAAAAAAAAAAAAAAAAAAAAAAAAAAAAAAAAAAAAAgAACuJ0cmFrAAAAXHRraGQAAAADAAAAAAAAAAAAAAABAAAAAAAAH5AAAAAAAAAAAAAAAAAAAAAAAAEAAAAAAAAAAAAAAAAAAAABAAAAAAAAAAAAAAAAAABAAAAAARAAAAEQAAAAAAAkZWR0cwAAABxlbHN0AAAAAAAAAAEAAB+QAAAEAAABAAAAAApabWRpYQAAACBtZGhkAAAAAAAAAAAAAAAAAAAyAAABlABVxAAAAAAALWhkbHIAAAAAAAAAAHZpZGUAAAAAAAAAAAAAAABWaWRlb0hhbmRsZXIAAAAKBW1pbmYAAAAUdm1oZAAAAAEAAAAAAAAAAAAAACRkaW5mAAAAHGRyZWYAAAAAAAAAAQAAAAx1cmwgAAAAAQAACcVzdGJsAAAAlXN0c2QAAAAAAAAAAQAAAIVhdmMxAAAAAAAAAAEAAAAAAAAAAAAAAAAAAAAAARABEABIAAAASAAAAAAAAAABAAAAAAAAAAAAAAAAAAAAAAAAAAAAAAAAAAAAAAAAAAAAGP//AAAAL2F2Y0MB9AAN/+EAF2f0AA2RmygiEdCAAAADAIAAABkHihTLAQAFaOvjxEgAAAAYc3R0cwAAAAAAAAABAAAAygAAAgAAAAAUc3RzcwAAAAAAAAABAAAAAQAABZBjdHRzAAAAAAAAALAAAAACAAAEAAAAAAEAAAYAAAAAAQAAAgAAAAABAAAKAAAAAAEAAAQAAAAAAQAAAAAAAAABAAACAAAAAAIAAAQAAAAAAQAACgAAAAABAAAEAAAAAAEAAAAAAAAAAQAAAgAAAAABAAAEAAAAAAEAAAoAAAAAAQAABAAAAAABAAAAAAAAAAEAAAIAAAAAAQAACAAAAAACAAACAAAAAAEAAAoAAAAAAQAABAAAAAABAAAAAAAAAAEAAAIAAAAAAQAABgAAAAABAAACAAAAAAMAAAQAAAAAAQAACgAAAAABAAAEAAAAAAEAAAAAAAAAAQAAAgAAAAABAAAKAAAAAAEAAAQAAAAAAQAAAAAAAAABAAACAAAAAAEAAAYAAAAAAQAAAgAAAAABAAAIAAAAAAIAAAIAAAAAAQAACAAAAAACAAACAAAAAAEAAAQAAAAAAQAACgAAAAABAAAEAAAAAAEAAAAAAAAAAQAAAgAAAAACAAAEAAAAAAEAAAYAAAAAAQAAAgAAAAABAAAGAAAAAAEAAAIAAAAAAQAACgAAAAABAAAEAAAAAAEAAAAAAAAAAQAAAgAAAAABAAAKAAAAAAEAAAQAAAAAAQAAAAAAAAABAAACAAAAAAEAAAYAAAAAAQAAAgAAAAABAAAIAAAAAAIAAAIAAAAAAQAABAAAAAABAAAIAAAAAAIAAAIAAAAAAQAABgAAAAABAAACAAAAAAEAAAgAAAAAAgAAAgAAAAABAAAEAAAAAAEAAAYAAAAAAQAAAgAAAAABAAAEAAAAAAEAAAoAAAAAAQAABAAAAAABAAAAAAAAAAEAAAIAAAAAAQAACgAAAAABAAAEAAAAAAEAAAAAAAAAAQAAAgAAAAABAAAEAAAAAAEAAAgAAAAAAgAAAgAAAAABAAAIAAAAAAIAAAIAAAAAAQAABAAAAAABAAAIAAAAAAIAAAIAAAAAAQAACgAAAAABAAAEAAAAAAEAAAAAAAAAAQAAAgAAAAABAAAGAAAAAAEAAAIAAAAAAQAACgAAAAABAAAEAAAAAAEAAAAAAAAAAQAAAgAAAAABAAAGAAAAAAEAAAIAAAAAAQAACAAAAAACAAACAAAAAAEAAAQAAAAAAQAACgAAAAABAAAEAAAAAAEAAAAAAAAAAQAAAgAAAAABAAAGAAAAAAEAAAIAAAAAAQAABAAAAAABAAAGAAAAAAEAAAIAAAAAAQAACAAAAAACAAACAAAAAAEAAAgAAAAAAgAAAgAAAAADAAAEAAAAAAEAAAoAAAAAAQAABAAAAAABAAAAAAAAAAEAAAIAAAAAAQAACgAAAAABAAAEAAAAAAEAAAAAAAAAAQAAAgAAAAABAAAEAAAAAAEAAAoAAAAAAQAABAAAAAABAAAAAAAAAAEAAAIAAAAAAQAACAAAAAACAAACAAAAAAEAAAgAAAAAAgAAAgAAAAABAAAKAAAAAAEAAAQAAAAAAQAAAAAAAAABAAACAAAAAAEAAAQAAAAAAQAACgAAAAABAAAEAAAAAAEAAAAAAAAAAQAAAgAAAAABAAAIAAAAAAIAAAIAAAAAAQAACgAAAAABAAAEAAAAAAEAAAAAAAAAAQAAAgAAAAABAAAGAAAAAAEAAAIAAAAAAQAACAAAAAACAAACAAAAAAEAAAoAAAAAAQAABAAAAAABAAAAAAAAAAEAAAIAAAAAAQAABgAAAAABAAACAAAAAAEAAAYAAAAAAQAAAgAAAAABAAAIAAAAAAIAAAIAAAAAAQAABgAAAAABAAACAAAAAAEAAAQAAAAAAQAABgAAAAABAAACAAAAAAEAAAoAAAAAAQAABAAAAAABAAAAAAAAAAEAAAIAAAAAAgAABAAAAAABAAAIAAAAAAIAAAIAAAAAHHN0c2MAAAAAAAAAAQAAAAEAAADKAAAAAQAAAzxzdHN6AAAAAAAAAAAAAADKAAAGDQAAABcAAAAUAAAAEwAAACMAAAAZAAAAFAAAABMAAAAdAAAAHQAAABUAAAAXAAAAFAAAABQAAAAeAAAAHwAAABQAAAAUAAAAFAAAACAAAAAWAAAAEgAAACAAAAAUAAAAFAAAABMAAAAhAAAAFAAAAB0AAAAcAAAAHQAAACMAAAAZAAAAFAAAABQAAAAkAAAAGQAAABMAAAAUAAAAIAAAABMAAAAcAAAAFgAAABIAAAAeAAAAFQAAABQAAAAeAAAAHwAAABQAAAATAAAAFAAAAB4AAAAcAAAAHgAAABMAAAAfAAAAFAAAABYAAAAQAAAAEwAAABQAAAAgAAAAFAAAABMAAAAUAAAAHgAAABQAAAAcAAAAFQAAABIAAAAeAAAAHwAAABYAAAAUAAAAIAAAABQAAAAdAAAAFgAAABQAAAAeAAAAJgAAABMAAAAeAAAAHgAAABQAAAAUAAAAEwAAACAAAAAUAAAAEwAAABQAAAAdAAAAHAAAABMAAAATAAAAHgAAABYAAAAUAAAAHgAAAB0AAAATAAAAEwAAACMAAAAVAAAAFAAAABMAAAAlAAAAEwAAABUAAAAYAAAAFAAAABQAAAAlAAAAFAAAAB0AAAATAAAAEQAAAB0AAAAgAAAAGAAAABMAAAAUAAAAHwAAABQAAAAcAAAAIgAAABMAAAAcAAAAFgAAABQAAAAdAAAAFgAAABQAAAAeAAAAHAAAAB0AAAAfAAAAFQAAABMAAAAUAAAAFgAAABAAAAAUAAAAFAAAAB4AAAAeAAAAFAAAABMAAAATAAAAHgAAABYAAAAUAAAAHgAAABMAAAARAAAAFgAAABAAAAAUAAAAEwAAAB4AAAAfAAAAFAAAABQAAAATAAAAHgAAABYAAAAUAAAAIAAAABQAAAAUAAAAEwAAACEAAAATAAAAHQAAABMAAAARAAAAGwAAABIAAAAUAAAAFAAAACEAAAAUAAAAIAAAABQAAAAcAAAAFQAAABIAAAAgAAAAFAAAABwAAAAiAAAAFAAAABoAAAASAAAAFAAAABMAAAAfAAAAGwAAAB4AAAAqAAAAJgAAABRzdGNvAAAAAAAAAAEAAAAwAAAAYnVkdGEAAABabWV0YQAAAAAAAAAhaGRscgAAAAAAAAAAbWRpcmFwcGwAAAAAAAAAAAAAAAAtaWxzdAAAACWpdG9vAAAAHWRhdGEAAAABAAAAAExhdmY1Ny44My4xMDA=\" type=\"video/mp4\" />\n",
              "             </video>"
            ],
            "text/plain": [
              "<IPython.core.display.HTML object>"
            ]
          },
          "metadata": {
            "tags": []
          },
          "execution_count": 9
        }
      ]
    },
    {
      "cell_type": "markdown",
      "metadata": {
        "id": "etQKBckCrv6Y",
        "colab_type": "text"
      },
      "source": [
        "***\n",
        "## DQN"
      ]
    },
    {
      "cell_type": "markdown",
      "metadata": {
        "id": "dyC60cXwrv6Z",
        "colab_type": "text"
      },
      "source": [
        "Let us assume here that $T=\\infty$.\n",
        "\n",
        "***\n",
        "__Question 5__ Let $\\pi$ be a policy, show that:\n",
        "\n",
        "\\begin{equation*}\n",
        "Q^{\\pi}(s,a)=E_{(s',a')\\sim p(.|s,a)}[r(s,a)+\\gamma Q^{\\pi}(s',a')]\n",
        "\\end{equation*}\n",
        "\n",
        "Then, show that for the optimal policy $\\pi^*$ (we assume its existence), the following holds: \n",
        "\n",
        "\\begin{equation*}\n",
        "Q^{*}(s,a)=E_{s'\\sim \\pi^*(.|s,a)}[r(s,a)+\\gamma\\max_{a'}Q^{*}(s',a')].\n",
        "\\end{equation*}\n",
        "Finally, deduce that a plausible objective is:\n",
        "\n",
        "\\begin{equation*}\n",
        "\\mathcal{L}(\\theta)=E_{s' \\sim \\pi^*(.|s,a)}\\Vert r+\\gamma\\max\\max_{a'}Q(s',a',\\theta)-Q(s,a,\\theta)\\Vert^{2}.\n",
        "\\end{equation*}\n",
        "\n",
        "\n"
      ]
    },
    {
      "cell_type": "markdown",
      "metadata": {
        "id": "i9yOWy27rv6Z",
        "colab_type": "text"
      },
      "source": [
        "**Answer 5:**\n",
        "- $$Q^\\pi(s,a)=E_{(s_1,a_1,....,s_T,a_T) \\sim p^\\pi}[\\sum_{t\\leq T}\\gamma^{t}r(s_{t},a_{t})|s_{0}=s,a_{0}=a] $$\n",
        "$$Q^\\pi(s,a)=E_{(s_1,a_1,....,s_T,a_T) \\sim p^\\pi}[r(s_0,a_0) + \\sum_{t=1}^T \\gamma^{t}r(s_{t},a_{t})|s_{0}=s,a_{0}=a]$$\n",
        "$$=r(s,a)+E_{(s_1,a_1,....,s_T,a_T) \\sim p^\\pi}[\\sum_{t=1}^T \\gamma^{t}r(s_{t},a_{t})|s_{0}=s,a_{0}=a]$$\n",
        "$$=r(s,a)+E_{(s',a') \\sim p(.| s,a), \\pi(.|s')}\\{E_{(s_2,a_2,....,s_T,a_T) \\sim p^\\pi}[\\sum_{t=1}^T \\gamma^{t}r(s_{t},a_{t})|s_1=s',a_1=a']\\}$$\n",
        "$$=E_{(s',a') \\sim p(.| s,a), \\pi(.|s')}\\{r(s,a)+\\gamma E_{(s_2,a_2,....,s_T,a_T) \\sim p^\\pi}[r(s_{1},a_{1})+\\gamma^2 r(s_2,a_2).....\\gamma^{T-1}r(s_T,a_T)|s_1=s',a_1=a']\\}$$\n",
        "$$=E_{(s',a') \\sim p(.| s,a), \\pi(.|s')}[r(s,a)+\\gamma Q^{\\pi}(s',a')]$$\n",
        "The last equality is true because T tends to $\\infty$, hence the first equation holds.\n",
        "\n",
        "- For the optimal policy $\\pi^*$, we have: \n",
        "$$Q^*(s,a)=E_{(s',a') \\sim p(.| s,a), \\pi^*(.|s')}[r(s,a)+\\gamma Q^{\\pi^*}(s',a')]$$\n",
        "$$=E_{s' \\sim p(.| s,a)} \\ E_{a' \\sim \\pi^*(.|s')}[r(s,a)+\\gamma Q^*(s',a')]$$\n",
        "$$=E_{s' \\sim p(.| s,a)}[r(s,a)+\\gamma E_{a' \\sim \\pi^*(.|s')}Q^*(s',a')]$$\n",
        "$$=E_{s' \\sim p(.| s,a)}[r(s,a)+\\gamma max_{a'}Q^*(s',a')]$$\n",
        "- The equation above has only one solution which is $Q^*(s,a)$. Therefore, it is plausible to find Q(s,a) by minimizing the distance between the right and left side in the equation for the optimal solution, which is represented by the loss $\\mathcal{L}(\\theta)$ ($\\theta$ is the parameter of the model used to compute Q)."
      ]
    },
    {
      "cell_type": "markdown",
      "metadata": {
        "id": "R4KmUsuzrv6a",
        "colab_type": "text"
      },
      "source": [
        "***\n",
        "The DQN-learning algorithm relies on these derivations to train the parameters $\\theta$ of a Deep Neural Network:\n",
        "\n",
        "1. At the state $s_t$, select the action $a_t$ with best reward using $Q_t$ and store the results;\n",
        "\n",
        "2. Obtain the new state $s_{t+1}$ from the environment $p$;\n",
        "\n",
        "3. Store $(s_t,a_t,s_{t+1})$;\n",
        "\n",
        "4. Obtain $Q_{t+1}$ by minimizing  $\\mathcal{L}$ from a recovered batch from the previously stored results.\n",
        "\n",
        "***\n",
        "__Question 6__ Implement the class ```Memory``` that stores moves (in a replay buffer) via ```remember``` and provides a ```random_access``` to these. Specify a maximum memory size to avoid side effects. You can for example use a ```list()``` and set by default ```max_memory=100```."
      ]
    },
    {
      "cell_type": "code",
      "metadata": {
        "id": "kf2e0PGKrv6b",
        "colab_type": "code",
        "colab": {}
      },
      "source": [
        "import random \n",
        "class Memory(object):\n",
        "    def __init__(self, max_memory=100):\n",
        "        self.max_memory = max_memory\n",
        "        self.memory = list()\n",
        "\n",
        "    def remember(self, m):\n",
        "        # m can be an array  [s_, n_s_, a_, r_, game_over_]\n",
        "        if len(self.memory)<self.max_memory:\n",
        "            self.memory.append(m)\n",
        "        else: \n",
        "            self.memory[:-1]=self.memory[1:]\n",
        "            self.memory[-1]=m\n",
        "    def random_access(self,num=1):\n",
        "        if num==0 or len(self.memory)==0: \n",
        "            return \n",
        "        elif num==1: \n",
        "            return self.memory[np.random.randint(0,len(self.memory))]\n",
        "        elif num>len(self.memory): \n",
        "            # take multiple indices with replacement(bootstrap)\n",
        "            ind=np.random.randint(0,len(self.memory),(num,))\n",
        "            temp_array=np.array(self.memory)\n",
        "            return temp_array[ind]\n",
        "        else: \n",
        "            return random.sample(self.memory,num)"
      ],
      "execution_count": 0,
      "outputs": []
    },
    {
      "cell_type": "markdown",
      "metadata": {
        "id": "JLt1AMG9rv6d",
        "colab_type": "text"
      },
      "source": [
        "***\n",
        "The pipeline we will use for training is given below:"
      ]
    },
    {
      "cell_type": "code",
      "metadata": {
        "id": "KSeGWeQArv6e",
        "colab_type": "code",
        "colab": {}
      },
      "source": [
        "def train(agent,env,epoch,prefix=''):\n",
        "    # Number of won games\n",
        "    score = 0\n",
        "    loss = 0\n",
        "\n",
        "    for e in range(epoch):\n",
        "        # At each epoch, we restart to a fresh game and get the initial state\n",
        "        state = env.reset()\n",
        "        # This assumes that the games will terminate\n",
        "        game_over = False\n",
        "\n",
        "        win = 0\n",
        "        lose = 0\n",
        "\n",
        "        while not game_over:\n",
        "            # The agent performs an action\n",
        "            action = agent.act(state)\n",
        "\n",
        "            # Apply an action to the environment, get the next state, the reward\n",
        "            # and if the games end\n",
        "            prev_state = state\n",
        "            state, reward, game_over = env.act(action)\n",
        "\n",
        "            # Update the counters\n",
        "            if reward > 0:\n",
        "                win = win + reward\n",
        "            if reward < 0:\n",
        "                lose = lose -reward\n",
        "\n",
        "            # Apply the reinforcement strategy\n",
        "            loss = agent.reinforce(prev_state, state,  action, reward, game_over)\n",
        "\n",
        "        # Save as a mp4\n",
        "        if e % 10 == 0:\n",
        "            env.draw(prefix+str(e))\n",
        "\n",
        "        # Update stats\n",
        "        score += win-lose\n",
        "\n",
        "        print(\"Epoch {:03d}/{:03d} | Loss {:.4f} | Win/lose count {}/{} ({})\"\n",
        "              .format(e, epoch, loss, win, lose, win-lose))\n",
        "        agent.save(name_weights=prefix+'model.h5',name_model=prefix+'model.json')"
      ],
      "execution_count": 0,
      "outputs": []
    },
    {
      "cell_type": "markdown",
      "metadata": {
        "id": "EhPtH-Kdrv6g",
        "colab_type": "text"
      },
      "source": [
        "***\n",
        "__Question 7__ Implement the DQN training algorithm using a cascade of fully connected layers. You can use different learning rate, batch size or memory size parameters. In particular, the loss might oscillate while the player will start to win the games. You have to find a good criterium."
      ]
    },
    {
      "cell_type": "code",
      "metadata": {
        "id": "7pomhFGTrv6g",
        "colab_type": "code",
        "colab": {}
      },
      "source": [
        "class DQN(Agent):\n",
        "    def __init__(self, grid_size,  epsilon = 0.1, memory_size=100, batch_size = 16,n_state=2):\n",
        "        super(DQN, self).__init__(epsilon = epsilon)\n",
        "\n",
        "        # Discount for Q learning\n",
        "        self.discount = 0.99\n",
        "        \n",
        "        self.grid_size = grid_size\n",
        "        \n",
        "        # number of state\n",
        "        self.n_state = n_state\n",
        "\n",
        "        # Memory\n",
        "        self.memory = Memory(memory_size)\n",
        "        \n",
        "        # Batch size when learning\n",
        "        self.batch_size = batch_size\n",
        "\n",
        "    def learned_act(self, s):\n",
        "        return np.argmax(self.model.predict(s[np.newaxis,:,:,:]))\n",
        "\n",
        "    def reinforce(self, s_, n_s_, a_, r_, game_over_):\n",
        "        # Two steps: first memorize the states, second learn from the pool\n",
        "\n",
        "        self.memory.remember([s_, n_s_, a_, r_, game_over_])\n",
        "        \n",
        "        input_states = np.zeros((self.batch_size, 5,5,self.n_state))\n",
        "        target_q = np.zeros((self.batch_size, 4))\n",
        "        \n",
        "        # sample a batch from memory \n",
        "        transition_batch=self.memory.random_access(self.batch_size)\n",
        "        # fill arrays \n",
        "        for i in range(self.batch_size):\n",
        "            s_i, n_s_i, a_i, r_i, game_over_=transition_batch[i]\n",
        "            target_q[i]=self.model.predict(s_i[np.newaxis,:,:,:])\n",
        "            input_states[i]=s_i\n",
        "\n",
        "            if game_over_:\n",
        "                target_q[i,a_i]=r_i\n",
        "            else:\n",
        "                target_q[i,a_i]=r_i+self.discount*np.max(self.model.predict(n_s_i[np.newaxis,:,:,:]))\n",
        "                \n",
        "        # HINT: Clip the target to avoid exploiding gradients.. -- clipping is a bit tighter\n",
        "        target_q = np.clip(target_q, -3, 3)\n",
        "\n",
        "        l = self.model.train_on_batch(input_states, target_q)\n",
        "\n",
        "\n",
        "        return l\n",
        "\n",
        "    def save(self,name_weights='model.h5',name_model='model.json'):\n",
        "        self.model.save_weights(name_weights, overwrite=True)\n",
        "        with open(name_model, \"w\") as outfile:\n",
        "            json.dump(self.model.to_json(), outfile)\n",
        "            \n",
        "    def load(self,name_weights='model.h5',name_model='model.json'):\n",
        "        with open(name_model, \"r\") as jfile:\n",
        "            model = model_from_json(json.load(jfile))\n",
        "        model.load_weights(name_weights)\n",
        "        model.compile(\"sgd\", \"mse\")\n",
        "        self.model = model\n",
        "\n",
        "            \n",
        "class DQN_FC(DQN):\n",
        "    def __init__(self, *args, lr=0.1,**kwargs):\n",
        "        super(DQN_FC, self).__init__( *args,**kwargs)\n",
        "        \n",
        "        # MLP Model\n",
        "        model=Sequential()\n",
        "        model.add(Flatten())\n",
        "        model.add(Dense(20,activation='relu'))\n",
        "        model.add(Dense(20,activation='relu'))\n",
        "        model.add(Dense(4))        \n",
        "        model.compile(sgd(lr=lr, decay=1e-4, momentum=0.0), \"mse\")\n",
        "        self.model = model\n",
        "        "
      ],
      "execution_count": 0,
      "outputs": []
    },
    {
      "cell_type": "code",
      "metadata": {
        "id": "ZOE_JSndrv6j",
        "colab_type": "code",
        "outputId": "4c62ef55-6e9a-4662-d6da-05a4330c65c4",
        "colab": {
          "base_uri": "https://localhost:8080/",
          "height": 1000
        }
      },
      "source": [
        "env = Environment(grid_size=size, max_time=T, temperature=0.3)\n",
        "agent = DQN_FC(size, lr=.1, epsilon = 0.1, memory_size=2000, batch_size = 32)\n",
        "train(agent, env, epochs_train, prefix='fc_train')\n",
        "HTML(display_videos('fc_train10.mp4'))"
      ],
      "execution_count": 0,
      "outputs": [
        {
          "output_type": "stream",
          "text": [
            "WARNING:tensorflow:From /usr/local/lib/python3.6/dist-packages/keras/backend/tensorflow_backend.py:66: The name tf.get_default_graph is deprecated. Please use tf.compat.v1.get_default_graph instead.\n",
            "\n",
            "WARNING:tensorflow:From /usr/local/lib/python3.6/dist-packages/keras/optimizers.py:793: The name tf.train.Optimizer is deprecated. Please use tf.compat.v1.train.Optimizer instead.\n",
            "\n",
            "WARNING:tensorflow:From /usr/local/lib/python3.6/dist-packages/keras/backend/tensorflow_backend.py:541: The name tf.placeholder is deprecated. Please use tf.compat.v1.placeholder instead.\n",
            "\n",
            "WARNING:tensorflow:From /usr/local/lib/python3.6/dist-packages/keras/backend/tensorflow_backend.py:4432: The name tf.random_uniform is deprecated. Please use tf.random.uniform instead.\n",
            "\n",
            "WARNING:tensorflow:From /usr/local/lib/python3.6/dist-packages/keras/backend/tensorflow_backend.py:3005: The name tf.Session is deprecated. Please use tf.compat.v1.Session instead.\n",
            "\n",
            "WARNING:tensorflow:From /usr/local/lib/python3.6/dist-packages/keras/backend/tensorflow_backend.py:190: The name tf.get_default_session is deprecated. Please use tf.compat.v1.get_default_session instead.\n",
            "\n",
            "WARNING:tensorflow:From /usr/local/lib/python3.6/dist-packages/keras/backend/tensorflow_backend.py:197: The name tf.ConfigProto is deprecated. Please use tf.compat.v1.ConfigProto instead.\n",
            "\n",
            "WARNING:tensorflow:From /usr/local/lib/python3.6/dist-packages/keras/backend/tensorflow_backend.py:207: The name tf.global_variables is deprecated. Please use tf.compat.v1.global_variables instead.\n",
            "\n",
            "WARNING:tensorflow:From /usr/local/lib/python3.6/dist-packages/keras/backend/tensorflow_backend.py:216: The name tf.is_variable_initialized is deprecated. Please use tf.compat.v1.is_variable_initialized instead.\n",
            "\n",
            "WARNING:tensorflow:From /usr/local/lib/python3.6/dist-packages/keras/backend/tensorflow_backend.py:223: The name tf.variables_initializer is deprecated. Please use tf.compat.v1.variables_initializer instead.\n",
            "\n",
            "WARNING:tensorflow:From /usr/local/lib/python3.6/dist-packages/keras/backend/tensorflow_backend.py:1033: The name tf.assign_add is deprecated. Please use tf.compat.v1.assign_add instead.\n",
            "\n",
            "WARNING:tensorflow:From /usr/local/lib/python3.6/dist-packages/keras/backend/tensorflow_backend.py:1020: The name tf.assign is deprecated. Please use tf.compat.v1.assign instead.\n",
            "\n",
            "Epoch 000/050 | Loss 0.0089 | Win/lose count 3.5/6.0 (-2.5)\n",
            "Epoch 001/050 | Loss 0.0111 | Win/lose count 2.5/4.0 (-1.5)\n",
            "Epoch 002/050 | Loss 0.0177 | Win/lose count 5.0/5.0 (0.0)\n",
            "Epoch 003/050 | Loss 0.0117 | Win/lose count 5.0/5.0 (0.0)\n",
            "Epoch 004/050 | Loss 0.0061 | Win/lose count 5.0/6.0 (-1.0)\n",
            "Epoch 005/050 | Loss 0.0058 | Win/lose count 7.0/6.0 (1.0)\n",
            "Epoch 006/050 | Loss 0.0235 | Win/lose count 3.5/4.0 (-0.5)\n",
            "Epoch 007/050 | Loss 0.0114 | Win/lose count 2.0/3.0 (-1.0)\n",
            "Epoch 008/050 | Loss 0.0162 | Win/lose count 7.0/6.0 (1.0)\n",
            "Epoch 009/050 | Loss 0.0133 | Win/lose count 6.0/4.0 (2.0)\n",
            "Epoch 010/050 | Loss 0.0067 | Win/lose count 3.0/3.0 (0.0)\n",
            "Epoch 011/050 | Loss 0.0156 | Win/lose count 4.5/6.0 (-1.5)\n",
            "Epoch 012/050 | Loss 0.0481 | Win/lose count 5.0/5.0 (0.0)\n",
            "Epoch 013/050 | Loss 0.0698 | Win/lose count 2.5/2.0 (0.5)\n",
            "Epoch 014/050 | Loss 0.0059 | Win/lose count 2.5/1.0 (1.5)\n",
            "Epoch 015/050 | Loss 0.0055 | Win/lose count 2.5/8.0 (-5.5)\n",
            "Epoch 016/050 | Loss 0.0052 | Win/lose count 6.5/4.0 (2.5)\n",
            "Epoch 017/050 | Loss 0.0126 | Win/lose count 3.5/9.0 (-5.5)\n",
            "Epoch 018/050 | Loss 0.0038 | Win/lose count 3.0/4.0 (-1.0)\n",
            "Epoch 019/050 | Loss 0.0080 | Win/lose count 6.5/2.0 (4.5)\n",
            "Epoch 020/050 | Loss 0.0111 | Win/lose count 5.0/1.0 (4.0)\n",
            "Epoch 021/050 | Loss 0.0030 | Win/lose count 4.5/5.0 (-0.5)\n",
            "Epoch 022/050 | Loss 0.0108 | Win/lose count 3.5/7.0 (-3.5)\n",
            "Epoch 023/050 | Loss 0.0050 | Win/lose count 7.0/5.0 (2.0)\n",
            "Epoch 024/050 | Loss 0.0032 | Win/lose count 3.5/3.0 (0.5)\n",
            "Epoch 025/050 | Loss 0.0317 | Win/lose count 3.0/1.0 (2.0)\n",
            "Epoch 026/050 | Loss 0.0059 | Win/lose count 7.0/3.0 (4.0)\n",
            "Epoch 027/050 | Loss 0.0097 | Win/lose count 3.0/6.0 (-3.0)\n",
            "Epoch 028/050 | Loss 0.0105 | Win/lose count 2.5/4.0 (-1.5)\n",
            "Epoch 029/050 | Loss 0.0018 | Win/lose count 4.5/2.0 (2.5)\n",
            "Epoch 030/050 | Loss 0.0021 | Win/lose count 3.5/1.0 (2.5)\n",
            "Epoch 031/050 | Loss 0.0088 | Win/lose count 8.5/1.0 (7.5)\n",
            "Epoch 032/050 | Loss 0.0066 | Win/lose count 14.5/7.0 (7.5)\n",
            "Epoch 033/050 | Loss 0.0061 | Win/lose count 2.0/1.0 (1.0)\n",
            "Epoch 034/050 | Loss 0.0036 | Win/lose count 7.5/4.0 (3.5)\n",
            "Epoch 035/050 | Loss 0.0041 | Win/lose count 5.5/2.0 (3.5)\n",
            "Epoch 036/050 | Loss 0.0080 | Win/lose count 7.5/5.0 (2.5)\n",
            "Epoch 037/050 | Loss 0.0035 | Win/lose count 4.5/2.0 (2.5)\n",
            "Epoch 038/050 | Loss 0.0565 | Win/lose count 4.5/0 (4.5)\n",
            "Epoch 039/050 | Loss 0.0090 | Win/lose count 6.5/2.0 (4.5)\n",
            "Epoch 040/050 | Loss 0.0028 | Win/lose count 5.0/1.0 (4.0)\n",
            "Epoch 041/050 | Loss 0.0109 | Win/lose count 3.5/0 (3.5)\n",
            "Epoch 042/050 | Loss 0.0036 | Win/lose count 6.5/2.0 (4.5)\n",
            "Epoch 043/050 | Loss 0.0127 | Win/lose count 4.0/2.0 (2.0)\n",
            "Epoch 044/050 | Loss 0.0033 | Win/lose count 4.5/1.0 (3.5)\n",
            "Epoch 045/050 | Loss 0.0044 | Win/lose count 8.0/4.0 (4.0)\n",
            "Epoch 046/050 | Loss 0.0040 | Win/lose count 10.5/2.0 (8.5)\n",
            "Epoch 047/050 | Loss 0.0045 | Win/lose count 9.0/3.0 (6.0)\n",
            "Epoch 048/050 | Loss 0.0029 | Win/lose count 7.0/0 (7.0)\n",
            "Epoch 049/050 | Loss 0.0071 | Win/lose count 5.5/2.0 (3.5)\n"
          ],
          "name": "stdout"
        },
        {
          "output_type": "execute_result",
          "data": {
            "text/html": [
              "<video alt=\"test\" controls>\n",
              "                <source src=\"data:video/mp4;base64,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\" type=\"video/mp4\" />\n",
              "             </video>"
            ],
            "text/plain": [
              "<IPython.core.display.HTML object>"
            ]
          },
          "metadata": {
            "tags": []
          },
          "execution_count": 13
        }
      ]
    },
    {
      "cell_type": "markdown",
      "metadata": {
        "id": "RUfSGuUArv6l",
        "colab_type": "text"
      },
      "source": [
        "***\n",
        "***\n",
        "__Question 8__ Implement the DQN training algorithm using a CNN (for example, 2 convolutional layers and one final fully connected layer)."
      ]
    },
    {
      "cell_type": "code",
      "metadata": {
        "id": "A-JRC-Hmrv6m",
        "colab_type": "code",
        "colab": {}
      },
      "source": [
        "class DQN_CNN(DQN):\n",
        "    def __init__(self, *args,lr=0.1,**kwargs):\n",
        "        super(DQN_CNN, self).__init__(*args,**kwargs)\n",
        "\n",
        "        model=Sequential()\n",
        "        model.add(Conv2D(32, (2, 2),input_shape=(5, 5, self.n_state),padding='same',activation='relu'))\n",
        "        model.add(Conv2D(16, (3, 3),activation='relu'))\n",
        "        model.add(Flatten())\n",
        "        model.add(Dense(4))    \n",
        "        model.compile(sgd(lr=lr, decay=1e-4, momentum=0.0), \"mse\")\n",
        "        self.model = model"
      ],
      "execution_count": 0,
      "outputs": []
    },
    {
      "cell_type": "code",
      "metadata": {
        "id": "Od8QWc5Arv6o",
        "colab_type": "code",
        "outputId": "c8714fca-b9f9-4f8e-8757-6f929b09fe04",
        "colab": {
          "base_uri": "https://localhost:8080/",
          "height": 1000
        }
      },
      "source": [
        "env = Environment(grid_size=size, max_time=T, temperature=0.3)\n",
        "agent = DQN_CNN(size, lr=.1, epsilon = 0.1, memory_size=2000, batch_size = 32)\n",
        "train(agent,env,epochs_train,prefix='cnn_train')\n",
        "HTML(display_videos('cnn_train10.mp4'))"
      ],
      "execution_count": 0,
      "outputs": [
        {
          "output_type": "stream",
          "text": [
            "Epoch 000/050 | Loss 0.0060 | Win/lose count 4.5/6.0 (-1.5)\n",
            "Epoch 001/050 | Loss 0.0074 | Win/lose count 3.5/4.0 (-0.5)\n",
            "Epoch 002/050 | Loss 0.0032 | Win/lose count 3.5/2.0 (1.5)\n",
            "Epoch 003/050 | Loss 0.0057 | Win/lose count 3.0/4.0 (-1.0)\n",
            "Epoch 004/050 | Loss 0.0021 | Win/lose count 1.5/1.0 (0.5)\n",
            "Epoch 005/050 | Loss 0.0075 | Win/lose count 5.0/1.0 (4.0)\n",
            "Epoch 006/050 | Loss 0.0016 | Win/lose count 6.5/6.0 (0.5)\n",
            "Epoch 007/050 | Loss 0.0495 | Win/lose count 5.5/3.0 (2.5)\n",
            "Epoch 008/050 | Loss 0.0039 | Win/lose count 4.0/2.0 (2.0)\n",
            "Epoch 009/050 | Loss 0.0025 | Win/lose count 4.5/5.0 (-0.5)\n",
            "Epoch 010/050 | Loss 0.0625 | Win/lose count 4.0/0 (4.0)\n",
            "Epoch 011/050 | Loss 0.0026 | Win/lose count 1.5/0 (1.5)\n",
            "Epoch 012/050 | Loss 0.0032 | Win/lose count 5.0/1.0 (4.0)\n",
            "Epoch 013/050 | Loss 0.0012 | Win/lose count 2.5/2.0 (0.5)\n",
            "Epoch 014/050 | Loss 0.0025 | Win/lose count 6.0/3.0 (3.0)\n",
            "Epoch 015/050 | Loss 0.0492 | Win/lose count 5.5/1.0 (4.5)\n",
            "Epoch 016/050 | Loss 0.0018 | Win/lose count 11.0/3.0 (8.0)\n",
            "Epoch 017/050 | Loss 0.0019 | Win/lose count 5.5/1.0 (4.5)\n",
            "Epoch 018/050 | Loss 0.0465 | Win/lose count 8.0/5.0 (3.0)\n",
            "Epoch 019/050 | Loss 0.0027 | Win/lose count 11.0/2.0 (9.0)\n",
            "Epoch 020/050 | Loss 0.0021 | Win/lose count 11.0/4.0 (7.0)\n",
            "Epoch 021/050 | Loss 0.0057 | Win/lose count 9.5/3.0 (6.5)\n",
            "Epoch 022/050 | Loss 0.0016 | Win/lose count 24.0/4.0 (20.0)\n",
            "Epoch 023/050 | Loss 0.0017 | Win/lose count 13.5/5.0 (8.5)\n",
            "Epoch 024/050 | Loss 0.0035 | Win/lose count 4.0/5.0 (-1.0)\n",
            "Epoch 025/050 | Loss 0.0636 | Win/lose count 7.0/2.0 (5.0)\n",
            "Epoch 026/050 | Loss 0.0041 | Win/lose count 12.5/2.0 (10.5)\n",
            "Epoch 027/050 | Loss 0.0066 | Win/lose count 9.5/5.0 (4.5)\n",
            "Epoch 028/050 | Loss 0.0041 | Win/lose count 17.5/7.0 (10.5)\n",
            "Epoch 029/050 | Loss 0.0017 | Win/lose count 11.0/1.0 (10.0)\n",
            "Epoch 030/050 | Loss 0.0132 | Win/lose count 18.0/1.0 (17.0)\n",
            "Epoch 031/050 | Loss 0.0027 | Win/lose count 9.5/2.0 (7.5)\n",
            "Epoch 032/050 | Loss 0.0012 | Win/lose count 15.0/2.0 (13.0)\n",
            "Epoch 033/050 | Loss 0.0021 | Win/lose count 13.5/1.0 (12.5)\n",
            "Epoch 034/050 | Loss 0.0061 | Win/lose count 18.0/2.0 (16.0)\n",
            "Epoch 035/050 | Loss 0.0040 | Win/lose count 12.0/4.0 (8.0)\n",
            "Epoch 036/050 | Loss 0.0012 | Win/lose count 15.5/1.0 (14.5)\n",
            "Epoch 037/050 | Loss 0.0023 | Win/lose count 17.5/5.0 (12.5)\n",
            "Epoch 038/050 | Loss 0.1083 | Win/lose count 22.5/3.0 (19.5)\n",
            "Epoch 039/050 | Loss 0.0034 | Win/lose count 15.5/1.0 (14.5)\n",
            "Epoch 040/050 | Loss 0.0037 | Win/lose count 17.5/5.0 (12.5)\n",
            "Epoch 041/050 | Loss 0.0036 | Win/lose count 23.0/3.0 (20.0)\n",
            "Epoch 042/050 | Loss 0.0079 | Win/lose count 19.5/4.0 (15.5)\n",
            "Epoch 043/050 | Loss 0.0016 | Win/lose count 11.0/0 (11.0)\n",
            "Epoch 044/050 | Loss 0.0022 | Win/lose count 9.0/5.0 (4.0)\n",
            "Epoch 045/050 | Loss 0.0024 | Win/lose count 15.5/1.0 (14.5)\n",
            "Epoch 046/050 | Loss 0.0023 | Win/lose count 23.0/0 (23.0)\n",
            "Epoch 047/050 | Loss 0.0023 | Win/lose count 15.5/3.0 (12.5)\n",
            "Epoch 048/050 | Loss 0.0030 | Win/lose count 20.5/4.0 (16.5)\n",
            "Epoch 049/050 | Loss 0.0018 | Win/lose count 16.5/5.0 (11.5)\n"
          ],
          "name": "stdout"
        },
        {
          "output_type": "execute_result",
          "data": {
            "text/html": [
              "<video alt=\"test\" controls>\n",
              "                <source src=\"data:video/mp4;base64,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\" type=\"video/mp4\" />\n",
              "             </video>"
            ],
            "text/plain": [
              "<IPython.core.display.HTML object>"
            ]
          },
          "metadata": {
            "tags": []
          },
          "execution_count": 15
        }
      ]
    },
    {
      "cell_type": "markdown",
      "metadata": {
        "id": "2gwPoElsrv6r",
        "colab_type": "text"
      },
      "source": [
        "***\n",
        "***\n",
        "__Question 9__ Test both algorithms and compare their performances. Which issue(s) do you observe? Observe also different behaviors by changing the temperature."
      ]
    },
    {
      "cell_type": "code",
      "metadata": {
        "id": "E05HZ8wOrv6r",
        "colab_type": "code",
        "outputId": "9ecab53d-b27a-414c-da8f-a0692b8f19c8",
        "colab": {
          "base_uri": "https://localhost:8080/",
          "height": 437
        }
      },
      "source": [
        "env = Environment(grid_size=size, max_time=T,temperature=0.3)\n",
        "agent_cnn = DQN_CNN(size, lr=.1, epsilon = 0.1, memory_size=2000, batch_size = 32)\n",
        "agent_cnn.load(name_weights='cnn_trainmodel.h5',name_model='cnn_trainmodel.json')\n",
        "\n",
        "agent_fc = DQN_FC(size, lr=.1, epsilon = 0.1, memory_size=2000, batch_size = 32)\n",
        "agent_cnn.load(name_weights='fc_trainmodel.h5',name_model='fc_trainmodel.json')\n",
        "print('Test of the CNN')\n",
        "test(agent_cnn,env,epochs_test,prefix='cnn_test')\n",
        "print('Test of the FC')\n",
        "test(agent_fc,env,epochs_test,prefix='fc_test')"
      ],
      "execution_count": 0,
      "outputs": [
        {
          "output_type": "stream",
          "text": [
            "Test of the CNN\n",
            "Win/lose count 2.0/3.0. Average score (-1.0)\n",
            "Win/lose count 5.0/3.0. Average score (0.5)\n",
            "Win/lose count 4.0/4.0. Average score (0.3333333333333333)\n",
            "Win/lose count 6.0/4.0. Average score (0.75)\n",
            "Win/lose count 2.0/0. Average score (1.0)\n",
            "Win/lose count 5.0/2.0. Average score (1.3333333333333333)\n",
            "Win/lose count 7.0/5.0. Average score (1.4285714285714286)\n",
            "Win/lose count 2.5/3.0. Average score (1.1875)\n",
            "Win/lose count 5.5/2.0. Average score (1.4444444444444444)\n",
            "Win/lose count 5.5/5.0. Average score (1.35)\n",
            "Final score: 1.35\n",
            "Test of the FC\n",
            "Win/lose count 1.0/4.0. Average score (-3.0)\n",
            "Win/lose count 3.0/0. Average score (0.0)\n",
            "Win/lose count 3.0/5.0. Average score (-0.6666666666666666)\n",
            "Win/lose count 5.5/1.0. Average score (0.625)\n",
            "Win/lose count 1.0/3.0. Average score (0.1)\n",
            "Win/lose count 1.0/0. Average score (0.25)\n",
            "Win/lose count 2.5/1.0. Average score (0.42857142857142855)\n",
            "Win/lose count 4.0/3.0. Average score (0.5)\n",
            "Win/lose count 2.5/5.0. Average score (0.16666666666666666)\n",
            "Win/lose count 2.0/1.0. Average score (0.25)\n",
            "Final score: 0.25\n"
          ],
          "name": "stdout"
        }
      ]
    },
    {
      "cell_type": "code",
      "metadata": {
        "id": "qKuH-_1Grv6u",
        "colab_type": "code",
        "outputId": "eccaf0a2-1cc2-46c8-8818-543c14bf2848",
        "colab": {
          "base_uri": "https://localhost:8080/",
          "height": 292
        }
      },
      "source": [
        "HTML(display_videos('cnn_test9.mp4'))"
      ],
      "execution_count": 0,
      "outputs": [
        {
          "output_type": "execute_result",
          "data": {
            "text/html": [
              "<video alt=\"test\" controls>\n",
              "                <source src=\"data:video/mp4;base64,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\" type=\"video/mp4\" />\n",
              "             </video>"
            ],
            "text/plain": [
              "<IPython.core.display.HTML object>"
            ]
          },
          "metadata": {
            "tags": []
          },
          "execution_count": 21
        }
      ]
    },
    {
      "cell_type": "code",
      "metadata": {
        "id": "5_sCg28Hrv6w",
        "colab_type": "code",
        "outputId": "93174f6b-a4a1-47f9-a1c5-771cd025973c",
        "colab": {
          "base_uri": "https://localhost:8080/",
          "height": 292
        }
      },
      "source": [
        "HTML(display_videos('fc_test9.mp4'))"
      ],
      "execution_count": 0,
      "outputs": [
        {
          "output_type": "execute_result",
          "data": {
            "text/html": [
              "<video alt=\"test\" controls>\n",
              "                <source src=\"data:video/mp4;base64,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\" type=\"video/mp4\" />\n",
              "             </video>"
            ],
            "text/plain": [
              "<IPython.core.display.HTML object>"
            ]
          },
          "metadata": {
            "tags": []
          },
          "execution_count": 19
        }
      ]
    },
    {
      "cell_type": "markdown",
      "metadata": {
        "id": "SetavWDNrv6y",
        "colab_type": "text"
      },
      "source": [
        "**Answer 9:** \n",
        "- First, we notice that the agent tends to be stuck in areas where there is no red squares: when the 5x5 patch around the agent does not contain a red square (+0.5) the agent can't make the right decision. In this case, we might notice some oscillations, because the agent wants to avoid the blue squares but has no idea where to go.  \n",
        "- The second problem is the that the agent often gets stuck near the edge of the board, where he eats all the cheese and poison. Therefore, the patch that surrounds him quickly becomes empty, which causes oscillations.  \n",
        "- The problem is more important with a lower temperature (thus we get a smaller number of non-empty squares). If we train the model in this case, the performance will get worse since the training samples become irrelevant (oscillations in empty areas). Moreover, another reason can be the overlap between 0.5 and -1 , since it is taken as 0.5 when creating the board. Hence, when the temperature increases, the overlap also does and the proportion positive/negative samples increases, which creates a bias. Therefore, when we test a model that was trained on a low temperature, in an environment of low temperature, we get a low score.\n",
        "- The problem of oscillations might be solved by adding more exploration to the agent. "
      ]
    },
    {
      "cell_type": "markdown",
      "metadata": {
        "id": "xBXt5tuXrv6y",
        "colab_type": "text"
      },
      "source": [
        "***\n",
        "\n",
        "The algorithm tends to not explore the map which can be an issue. We propose two ideas in order to encourage exploration:\n",
        "1. Incorporating a decreasing $\\epsilon$-greedy exploration. You can use the method ```set_epsilon```\n",
        "2. Append via the environment a new state that describes if a cell has been visited or not\n",
        "\n",
        "***\n",
        "__Question 10__ Design a new ```train_explore``` function and environment class ```EnvironmentExploring``` to tackle the issue of exploration.\n",
        "\n"
      ]
    },
    {
      "cell_type": "code",
      "metadata": {
        "id": "7tPoD7PJrv6z",
        "colab_type": "code",
        "colab": {}
      },
      "source": [
        "def train_explore(agent,env,epoch,prefix=''):\n",
        "     # Number of won games\n",
        "    score = 0\n",
        "    loss = 0\n",
        "\n",
        "    for e in range(epoch):\n",
        "        # At each epoch, we restart to a fresh game and get the initial state\n",
        "        state = env.reset()\n",
        "        # This assumes that the games will terminate\n",
        "        game_over = False\n",
        "\n",
        "        win = 0\n",
        "        lose = 0\n",
        "        # decreasing epsilon-greedy policy\n",
        "        agent.set_epsilon(1-(0.95/49)*e)\n",
        "        while not game_over:\n",
        "            # The agent performs an action\n",
        "            action = agent.act(state)\n",
        "\n",
        "            # Apply an action to the environment, get the next state, the reward\n",
        "            # and if the games end\n",
        "            prev_state = state\n",
        "            state, reward, game_over = env.act(action, train=True)\n",
        "\n",
        "            # Update the counters\n",
        "            if reward > 0:\n",
        "                win = win + reward\n",
        "            if reward < 0:\n",
        "                lose = lose -reward\n",
        "\n",
        "            # Apply the reinforcement strategy\n",
        "            loss = agent.reinforce(prev_state, state,  action, reward, game_over)\n",
        "\n",
        "        # Save as a mp4\n",
        "        if e % 10 == 0:\n",
        "            env.draw(prefix+str(e))\n",
        "\n",
        "        # Update stats\n",
        "        score += win-lose\n",
        "\n",
        "        print(\"Epoch {:03d}/{:03d} | Loss {:.4f} | Win/lose count {}/{} ({})\"\n",
        "              .format(e, epoch, loss, win, lose, win-lose))\n",
        "        agent.save(name_weights=prefix+'model.h5',name_model=prefix+'model.json')\n",
        "        \n",
        "class EnvironmentExploring(object):\n",
        "    def __init__(self, grid_size=10, max_time=500, temperature=0.1):\n",
        "        grid_size = grid_size+4\n",
        "        self.grid_size = grid_size\n",
        "        self.max_time = max_time\n",
        "        self.temperature = temperature\n",
        "\n",
        "        #board on which one plays\n",
        "        self.board = np.zeros((grid_size,grid_size))\n",
        "        self.position = np.zeros((grid_size,grid_size))\n",
        "        self.malus_position = np.zeros((grid_size,grid_size))\n",
        "        # coordinate of the cat\n",
        "        self.x = 0\n",
        "        self.y = 1\n",
        "\n",
        "        # self time\n",
        "        self.t = 0\n",
        "\n",
        "        self.scale=16\n",
        "\n",
        "        self.to_draw = np.zeros((max_time+2, grid_size*self.scale, grid_size*self.scale, 3))\n",
        "\n",
        "\n",
        "    def draw(self,e):\n",
        "        skvideo.io.vwrite(str(e) + '.mp4', self.to_draw)\n",
        "\n",
        "    def get_frame(self,t):\n",
        "        b = np.zeros((self.grid_size,self.grid_size,3))+128\n",
        "        b[self.board>0,0] = 256\n",
        "        b[self.board < 0, 2] = 256\n",
        "        b[self.x,self.y,:]=256\n",
        "        b[-2:,:,:]=0\n",
        "        b[:,-2:,:]=0\n",
        "        b[:2,:,:]=0\n",
        "        b[:,:2,:]=0\n",
        "        \n",
        "        b =  cv2.resize(b, None, fx=self.scale, fy=self.scale, interpolation=cv2.INTER_NEAREST)\n",
        "\n",
        "        self.to_draw[t,:,:,:]=b\n",
        "\n",
        "\n",
        "    def act(self, action,train=False):\n",
        "        \"\"\"This function returns the new state, reward and decides if the\n",
        "        game ends.\"\"\"\n",
        "\n",
        "        self.get_frame(int(self.t))\n",
        "\n",
        "        self.position = np.zeros((self.grid_size, self.grid_size))\n",
        "\n",
        "        self.position[0:2,:]= -1\n",
        "        self.position[:,0:2] = -1\n",
        "        self.position[-2:, :] = -1\n",
        "        self.position[:, -2:] = -1\n",
        "\n",
        "        self.position[self.x, self.y] = 1\n",
        "        if action == 0:\n",
        "            if self.x == self.grid_size-3:\n",
        "                self.x = self.x-1\n",
        "            else:\n",
        "                self.x = self.x + 1\n",
        "        elif action == 1:\n",
        "            if self.x == 2:\n",
        "                self.x = self.x+1\n",
        "            else:\n",
        "                self.x = self.x-1\n",
        "        elif action == 2:\n",
        "            if self.y == self.grid_size - 3:\n",
        "                self.y = self.y - 1\n",
        "            else:\n",
        "                self.y = self.y + 1\n",
        "        elif action == 3:\n",
        "            if self.y == 2:\n",
        "                self.y = self.y + 1\n",
        "            else:\n",
        "                self.y = self.y - 1\n",
        "        else:\n",
        "            RuntimeError('Error: action not recognized')\n",
        "\n",
        "        self.t = self.t + 1\n",
        "        reward = 0\n",
        "        if train:\n",
        "            reward = -self.malus_position[self.x, self.y]\n",
        "        self.malus_position[self.x, self.y] = 0.1\n",
        "\n",
        "        reward = reward + self.board[self.x, self.y]\n",
        "        self.board[self.x, self.y] = 0\n",
        "        game_over = self.t > self.max_time\n",
        "        state = np.concatenate((self.malus_position.reshape(self.grid_size, self.grid_size,1),\n",
        "                                self.board.reshape(self.grid_size, self.grid_size,1),\n",
        "                        self.position.reshape(self.grid_size, self.grid_size,1)),axis=2)\n",
        "        state = state[self.x-2:self.x+3,self.y-2:self.y+3,:]\n",
        "\n",
        "        return state, reward, game_over\n",
        "\n",
        "    def reset(self):\n",
        "        \"\"\"This function resets the game and returns the initial state\"\"\"\n",
        "\n",
        "        self.x = np.random.randint(3, self.grid_size-3, size=1)[0]\n",
        "        self.y = np.random.randint(3, self.grid_size-3, size=1)[0]\n",
        "\n",
        "\n",
        "        bonus = 0.5*np.random.binomial(1,self.temperature,size=self.grid_size**2)\n",
        "        bonus = bonus.reshape(self.grid_size,self.grid_size)\n",
        "\n",
        "        malus = -1.0*np.random.binomial(1,self.temperature,size=self.grid_size**2)\n",
        "        malus = malus.reshape(self.grid_size, self.grid_size)\n",
        "\n",
        "        self.to_draw = np.zeros((self.max_time+2, self.grid_size*self.scale, self.grid_size*self.scale, 3))\n",
        "\n",
        "\n",
        "        malus[bonus>0]=0\n",
        "\n",
        "        self.board = bonus + malus\n",
        "\n",
        "        self.position = np.zeros((self.grid_size, self.grid_size))\n",
        "        self.position[0:2,:]= -1\n",
        "        self.position[:,0:2] = -1\n",
        "        self.position[-2:, :] = -1\n",
        "        self.position[:, -2:] = -1\n",
        "        self.malus_position = np.zeros((self.grid_size, self.grid_size))\n",
        "        self.board[self.x,self.y] = 0\n",
        "        self.t = 0\n",
        "\n",
        "       \n",
        "        state = np.concatenate((self.malus_position.reshape(self.grid_size, self.grid_size,1),\n",
        "                                self.board.reshape(self.grid_size, self.grid_size,1),\n",
        "                        self.position.reshape(self.grid_size, self.grid_size,1)),axis=2)\n",
        "\n",
        "        state = state[self.x - 2:self.x + 3, self.y - 2:self.y + 3, :]\n",
        "        return state"
      ],
      "execution_count": 0,
      "outputs": []
    },
    {
      "cell_type": "code",
      "metadata": {
        "id": "BszNdFN7rv63",
        "colab_type": "code",
        "outputId": "0ec7794e-a0e1-4e8f-97f5-2eadce80bee8",
        "colab": {
          "base_uri": "https://localhost:8080/",
          "height": 1000
        }
      },
      "source": [
        "# Training\n",
        "env = EnvironmentExploring(grid_size=size, max_time=T, temperature=0.3)\n",
        "agent = DQN_CNN(size, lr=.1, epsilon = 0.1, memory_size=2000, batch_size = 32,n_state=3)\n",
        "train_explore(agent, env, epochs_train, prefix='cnn_train_explore')\n",
        "HTML(display_videos('cnn_train_explore10.mp4'))"
      ],
      "execution_count": 0,
      "outputs": [
        {
          "output_type": "stream",
          "text": [
            "Epoch 000/050 | Loss 0.0187 | Win/lose count 8.5/30.30000000000007 (-21.80000000000007)\n",
            "Epoch 001/050 | Loss 0.0236 | Win/lose count 8.5/33.800000000000054 (-25.300000000000054)\n",
            "Epoch 002/050 | Loss 0.0145 | Win/lose count 12.0/27.10000000000012 (-15.100000000000119)\n",
            "Epoch 003/050 | Loss 0.0063 | Win/lose count 7.5/25.300000000000022 (-17.800000000000022)\n",
            "Epoch 004/050 | Loss 0.0055 | Win/lose count 13.5/32.60000000000005 (-19.10000000000005)\n",
            "Epoch 005/050 | Loss 0.0039 | Win/lose count 8.0/30.40000000000006 (-22.40000000000006)\n",
            "Epoch 006/050 | Loss 0.0063 | Win/lose count 11.5/21.400000000000052 (-9.900000000000052)\n",
            "Epoch 007/050 | Loss 0.0488 | Win/lose count 12.5/24.100000000000033 (-11.600000000000033)\n",
            "Epoch 008/050 | Loss 0.0061 | Win/lose count 9.5/21.20000000000005 (-11.700000000000049)\n",
            "Epoch 009/050 | Loss 0.0071 | Win/lose count 14.0/27.300000000000086 (-13.300000000000086)\n",
            "Epoch 010/050 | Loss 0.0050 | Win/lose count 10.5/28.600000000000072 (-18.100000000000072)\n",
            "Epoch 011/050 | Loss 0.0044 | Win/lose count 9.5/26.80000000000006 (-17.30000000000006)\n",
            "Epoch 012/050 | Loss 0.0539 | Win/lose count 12.0/29.40000000000009 (-17.40000000000009)\n",
            "Epoch 013/050 | Loss 0.0039 | Win/lose count 14.0/20.600000000000016 (-6.600000000000016)\n",
            "Epoch 014/050 | Loss 0.0874 | Win/lose count 12.5/24.000000000000068 (-11.500000000000068)\n",
            "Epoch 015/050 | Loss 0.0071 | Win/lose count 17.0/24.20000000000004 (-7.200000000000038)\n",
            "Epoch 016/050 | Loss 0.0043 | Win/lose count 15.5/23.600000000000012 (-8.100000000000012)\n",
            "Epoch 017/050 | Loss 0.0045 | Win/lose count 14.5/22.400000000000055 (-7.900000000000055)\n",
            "Epoch 018/050 | Loss 0.0132 | Win/lose count 13.5/27.00000000000006 (-13.50000000000006)\n",
            "Epoch 019/050 | Loss 0.0038 | Win/lose count 18.0/25.80000000000004 (-7.80000000000004)\n",
            "Epoch 020/050 | Loss 0.0135 | Win/lose count 15.5/22.500000000000025 (-7.000000000000025)\n",
            "Epoch 021/050 | Loss 0.0102 | Win/lose count 20.0/17.799999999999983 (2.200000000000017)\n",
            "Epoch 022/050 | Loss 0.0088 | Win/lose count 15.0/29.0000000000001 (-14.0000000000001)\n",
            "Epoch 023/050 | Loss 0.0043 | Win/lose count 17.5/25.50000000000006 (-8.00000000000006)\n",
            "Epoch 024/050 | Loss 0.0151 | Win/lose count 17.0/19.200000000000003 (-2.200000000000003)\n",
            "Epoch 025/050 | Loss 0.0056 | Win/lose count 22.0/18.499999999999993 (3.500000000000007)\n",
            "Epoch 026/050 | Loss 0.0068 | Win/lose count 14.5/26.30000000000007 (-11.800000000000072)\n",
            "Epoch 027/050 | Loss 0.0037 | Win/lose count 20.0/20.5 (-0.5)\n",
            "Epoch 028/050 | Loss 0.0072 | Win/lose count 21.5/22.800000000000036 (-1.3000000000000362)\n",
            "Epoch 029/050 | Loss 0.0077 | Win/lose count 20.0/19.700000000000014 (0.2999999999999865)\n",
            "Epoch 030/050 | Loss 0.0215 | Win/lose count 18.5/15.799999999999969 (2.7000000000000313)\n",
            "Epoch 031/050 | Loss 0.0067 | Win/lose count 15.0/25.600000000000055 (-10.600000000000055)\n",
            "Epoch 032/050 | Loss 0.0076 | Win/lose count 12.5/17.499999999999982 (-4.999999999999982)\n",
            "Epoch 033/050 | Loss 0.0032 | Win/lose count 20.0/23.000000000000014 (-3.000000000000014)\n",
            "Epoch 034/050 | Loss 0.0092 | Win/lose count 24.5/19.80000000000002 (4.6999999999999815)\n",
            "Epoch 035/050 | Loss 0.0080 | Win/lose count 19.5/23.40000000000002 (-3.90000000000002)\n",
            "Epoch 036/050 | Loss 0.0063 | Win/lose count 22.0/17.599999999999998 (4.400000000000002)\n",
            "Epoch 037/050 | Loss 0.0046 | Win/lose count 21.5/19.20000000000003 (2.2999999999999687)\n",
            "Epoch 038/050 | Loss 0.0060 | Win/lose count 21.5/14.699999999999976 (6.800000000000024)\n",
            "Epoch 039/050 | Loss 0.0094 | Win/lose count 20.0/16.699999999999978 (3.300000000000022)\n",
            "Epoch 040/050 | Loss 0.0083 | Win/lose count 21.0/17.59999999999999 (3.4000000000000092)\n",
            "Epoch 041/050 | Loss 0.0057 | Win/lose count 27.5/15.699999999999973 (11.800000000000027)\n",
            "Epoch 042/050 | Loss 0.0393 | Win/lose count 19.0/16.89999999999997 (2.10000000000003)\n",
            "Epoch 043/050 | Loss 0.0081 | Win/lose count 27.0/15.899999999999977 (11.100000000000023)\n",
            "Epoch 044/050 | Loss 0.0065 | Win/lose count 22.5/12.799999999999981 (9.700000000000019)\n",
            "Epoch 045/050 | Loss 0.0046 | Win/lose count 20.0/15.69999999999997 (4.300000000000029)\n",
            "Epoch 046/050 | Loss 0.0038 | Win/lose count 15.5/13.89999999999997 (1.6000000000000298)\n",
            "Epoch 047/050 | Loss 0.0076 | Win/lose count 22.5/12.599999999999975 (9.900000000000025)\n",
            "Epoch 048/050 | Loss 0.0061 | Win/lose count 23.5/12.19999999999998 (11.30000000000002)\n",
            "Epoch 049/050 | Loss 0.0075 | Win/lose count 18.5/13.899999999999974 (4.600000000000026)\n"
          ],
          "name": "stdout"
        },
        {
          "output_type": "execute_result",
          "data": {
            "text/html": [
              "<video alt=\"test\" controls>\n",
              "                <source src=\"data:video/mp4;base64,AAAAIGZ0eXBpc29tAAACAGlzb21pc28yYXZjMW1wNDEAAAAIZnJlZQAAGPNtZGF0AAACrQYF//+p3EXpvebZSLeWLNgg2SPu73gyNjQgLSBjb3JlIDE1MiByMjg1NCBlOWE1OTAzIC0gSC4yNjQvTVBFRy00IEFWQyBjb2RlYyAtIENvcHlsZWZ0IDIwMDMtMjAxNyAtIGh0dHA6Ly93d3cudmlkZW9sYW4ub3JnL3gyNjQuaHRtbCAtIG9wdGlvbnM6IGNhYmFjPTEgcmVmPTMgZGVibG9jaz0xOjA6MCBhbmFseXNlPTB4MToweDExMSBtZT1oZXggc3VibWU9NyBwc3k9MSBwc3lfcmQ9MS4wMDowLjAwIG1peGVkX3JlZj0xIG1lX3JhbmdlPTE2IGNocm9tYV9tZT0xIHRyZWxsaXM9MSA4eDhkY3Q9MCBjcW09MCBkZWFkem9uZT0yMSwxMSBmYXN0X3Bza2lwPTEgY2hyb21hX3FwX29mZnNldD00IHRocmVhZHM9MyBsb29rYWhlYWRfdGhyZWFkcz0xIHNsaWNlZF90aHJlYWRzPTAgbnI9MCBkZWNpbWF0ZT0xIGludGVybGFjZWQ9MCBibHVyYXlfY29tcGF0PTAgY29uc3RyYWluZWRfaW50cmE9MCBiZnJhbWVzPTMgYl9weXJhbWlkPTIgYl9hZGFwdD0xIGJfYmlhcz0wIGRpcmVjdD0xIHdlaWdodGI9MSBvcGVuX2dvcD0wIHdlaWdodHA9MiBrZXlpbnQ9MjUwIGtleWludF9taW49MjUgc2NlbmVjdXQ9NDAgaW50cmFfcmVmcmVzaD0wIHJjX2xvb2thaGVhZD00MCByYz1jcmYgbWJ0cmVlPTEgY3JmPTIzLjAgcWNvbXA9MC42MCBxcG1pbj0wIHFwbWF4PTY5IHFwc3RlcD00IGlwX3JhdGlvPTEuNDAgYXE9MToxLjAwAIAAAAMeZYiEADv//vb8/AptUwn/LZ/+iL/lb+9P2a61uFE7M7QacwPQC/3cd/Xi1bCrc27LcdG8bJkAU3Roif7wCeTfrxQrF9b03wKauk83wKShRfKU2O4JxJfVD4UiJ/VjsiXNLFG8rRl7zd78h+WCoITOnJxlFtVlwh9n0GvBEmpNe3A1zWb78riRg0QviWmJaCriNZlF4oZm4DxFzlRgtuwg+K4J/RsV8dkzLZ0O0wXgn42lFx6FkBp+ZOEXUJdxk/I3//iK6fAbV2GIitgjX8c3YgHSRAauh6LmWHWM+fZ69lg6nSMCYLxzipe6gbOOp4NrOCuluJ7FQstHLTEiPAQibNQZd5dEsufzmfA1QOCE6Kjeek0KzBL0LT1/tf3+Be1bmDBY+dC/p/nMMj1ugzo22K48rlxlh+7NgsVfPpgpNSubSPMj67LSSasjtkhHU8utCQK9Cf0v/aGPc8P1H9OAxBbMqmZgOwJXlFr4xsYHaWMy4CJSqBqfzD76JuDDM2EpvA9XgfOa/302AIZFFba3x7LgTpe9R0j1WW3V6Vgj/m1FVy8xnRPDpTBNO8P7IwmnvixyCQAAER8K1F6DoWn22/ntkxNzH1yNQ58WuLkDa24BeGr5mvbuuMBk2NDrfZEtlO6opZRXEnugZuvsBvs7kwNsP6GUESgzjQKUbzFQnaeAkrCe4yAJpBI3QH+sQB4PcLvWgtrMzTxz/tWaJtoHAAByWiSYorK41rHM3aXgQkWa1Dy4WbGSFTLjJnbVQECuF2pKvGuuiTMqGzXzurShw3J6F3gU5/4QBP8jJFL1ebIo0d34285/1CfaqFBQHGWzrCuXqk64NhRLuvDCWMaNApgi6rc9bc1TIG86a3oAG5rNrqkLo5TyN6W3ITIvEaGrE4bcOGpRSsyXQNb6CAZ6c0AWZDQBQiMQW9HLFAPen4CLE2j1CHtYlJj4dL128/rJn9vDMYQ/YHb0AsNa7DLfTib23vMp2ulrLuKIkN+FQ5sk3gAtB9g7PAUg1aZSGad2zoB5E6UTeg9tPRGfOAG35YQsw8XM1mu6Ze6gAA+ZAAAAFkGaJGxDf/6nhAAHn9g/zyQKpkJFzLAAAAAOQZ5CeIX/AASWgOXkdOEAAAAQAZ5hdEK/AAZx5N5Wyh75QAAAAA8BnmNqQr8ABBg0DyYJpIEAAAAfQZpoSahBaJlMCGf//p4QADJ+yOrzLLPn24drz3ZB8QAAABVBnoZFESwv/wAHmTp3m9+uQ32zYaEAAAAQAZ6ldEK/AAaaSvfX6UJrYQAAABABnqdqQr8ACoWPLcNm1aqAAAAAGUGaqUmoQWyZTAhn//6eEAAza+40LpvuurwAAAAZQZrKSeEKUmUwIb/+p4QADXurSCET/LelgQAAABhBmutJ4Q6JlMCG//6nhAANy6tHVQ23n4AAAAApQZsOSeEPJlMCG//+p4QAFs94y5zLK57x+BSpbPwKZ2Bi7edba72cGOAAAAASQZ8sRRE8K/8AEl2hv9hvOyxrAAAADwGfTWpCvwASXZ5bhs2qiwAAABpBm1FJqEFomUwIb//+p4QAIqgCzbbPs+bSQQAAAA9Bn29FESwr/wAcUH/NYOAAAAAOAZ+QakK/ABwFgG+9cQcAAAAcQZuUSahBbJlMCG///qeEADY+wf55BWkEVLnDtwAAABJBn7JFFSwr/wAsWDrvMYO1XpwAAAAPAZ/TakK/ACxNyGI0qPTgAAAAG0Gb10moQWyZTAhn//6eEADXyGOfw7LZR+E+YQAAAA9Bn/VFFSwr/wAtbbgSl8AAAAAQAZ4WakK/AC1xtdwHOtBf8QAAABpBmhhJqEFsmUwIb//+p4QAVj0T/VcC0/81BwAAABlBmjlJ4QpSZTAhv/6nhACCoAs2203//sAnAAAAG0GaXEnhDomUwIb//qeEAMzSJ/quAx7my614+QAAABFBnnpFETwr/wCoWO/6OSKpQQAAAA4BnptqQr8AqFj1zXqlBQAAABpBmp1JqEFomUwId//+qZYAoNSDM//Uf66ekQAAACFBmqFJ4QpSZTAh3/6plgFM7agH94WoWQk2vuL0b2Zyz4AAAAARQZ7fRTRML/8BJs87G+xzkHAAAAAPAZ7+dEK/AP60IDJLlLaBAAAAEAGe4GpCvwGTBY17zSs2UkAAAAAcQZrlSahBaJlMCG///qeEDOtapj/Tbt46d6RJwQAAABBBnwNFESwv/wIBIDtRbYuAAAAADwGfInRCvwKv0dkGyXXj7wAAAA4BnyRqQr8CsDQPJgRRRQAAABlBmydJqEFsmUwUTDf//qeEDP4yW5m5SZsxAAAADwGfRmpCvwKuVlyGkO9DWwAAABxBm0lJ4QpSZTBSw3/+p4QCad1P1v14Hg3RTBqQAAAAEAGfaGpCvwGJJkmm+kg4lJAAAAARQZttSeEOiZTAhv/+p4QAAScAAAAMQZ+LRRU8L/8AALKAAAAAEAGfqnRCvwD7VI78AH26e0AAAAAQAZ+sakK/AZNK2L1kNyNtQQAAABpBm65JqEFomUwId//+qZYBR2kJNrSGPt02YQAAABtBm9JJ4QpSZTAhv/6nhAtD8KNZtWRsH+P4YEEAAAAQQZ/wRTRML/8B6p0R9gXtqAAAAA8Bng90Qr8CsEAdB1LJaMAAAAAQAZ4RakK/ApFoE7ockFYZUQAAABlBmhVJqEFomUwIb//+p4QLtsx+A+C3PTD/AAAAD0GeM0URLCv/ApBWcYlrQAAAAA8BnlRqQr8BkwWNgcpspIEAAAAaQZpWSahBbJlMCG///qeEAmndT9CALdAqpIAAAAAdQZp4SeEKUmUwUVLDf/6nhAE1+On3Wlmam3RazVkAAAAQAZ6XakK/APgETNN9JBxPmQAAABtBmptJ4Q6JlMCG//6nhADN+ysCE9ezPgiuqYAAAAASQZ65RRU8K/8AqDYAgFMA5BJBAAAAEAGe2mpCvwCj2RCbjPr02ggAAAAbQZrdSahBaJlMFPDv/qmWAKDgcwHce3vq8WrvAAAADwGe/GpCvwD+2I8mB69tQQAAABhBmuFJ4QpSZTAhv/6nhAE9+On28lQvc3oAAAAUQZ8fRTRML/8BHrbtm7el2PMtKmAAAAAQAZ8+dEK/AZOyruQ2VKPh4QAAABABnyBqQr8BiSW068AT+TiAAAAAGkGbIkmoQWiZTAh3//6plgCcIsN0YhHPr98xAAAAFkGbRknhClJlMCG//qeEAS346fa4toAAAAAOQZ9kRTRML/8AtbKgMWEAAAAQAZ+DdEK/APWobunZdlS7gQAAAA8Bn4VqQr8A/nmiC1Hl0m8AAAAaQZuJSahBaJlMCG///qeEAmHRP9SJ9nxqpIEAAAASQZ+nRREsK/8BiXbhdhvpeag4AAAADwGfyGpCvwGJduE4IHEpIAAAABlBm8xJqEFsmUwIb//+p4QCad1OP8PqhfHpAAAAEkGf6kUVLCv/ApGnXdukThDbgAAAAA4BngtqQr8CkFa/x3vIGAAAABlBmg1JqEFsmUwIb//+p4QCSd1OP8PqlPH/AAAAGUGaLknhClJlMCHf/qmWARf0c+6KQpgxK2EAAAAdQZpSSeEOiZTAh3/+qZYAlPx5/M0KgWimB8239i8AAAARQZ5wRRE8L/8AsVAitEdWtmAAAAAPAZ6PdEK/AO0X4uA/LRDAAAAAEAGekWpCvwDyq4NceKto7iEAAAAcQZqWSahBaJlMCHf//qmWAGM9pf2LAdEC3GL7rgAAABBBnrRFESwv/wBz/4q8ihAgAAAAEAGe03RCvwCfJ1J5X5KbNJEAAAAPAZ7VakK/AKPG13fd7wLAAAAAHEGa2kmoQWyZTAhv//6nhADMurVMf6t2+wfrfqUAAAASQZ74RRUsL/8AeZPWYLRc8cspAAAAEAGfF3RCvwCfZokT4sxRtJAAAAAQAZ8ZakK/AKhYR5LmfJLbgQAAABpBmx1JqEFsmUwIb//+p4QAzfsH+E4LdCRvQAAAAA9BnztFFSwr/wCoNuBJjcEAAAANAZ9cakK/AKhysPFMbwAAABpBm0BJqEFsmUwIb//+p4QAg3x0+o40JDhlQAAAAA9Bn35FFSwr/wBsCWs026AAAAAPAZ+fakK/AEWDQPJgi+mBAAAAGkGbgUmoQWyZTAhv//6nhABWvdT9RxoSHE3AAAAAG0GbpUnhClJlMCGf/p4QANj6+/psoXLrZq2g4QAAABBBn8NFNEwv/wAgtAZrrFvAAAAADwGf4nRCvwAtacoUm2SrJwAAAA8Bn+RqQr8ALFG13fd77WEAAAAZQZvmSahBaJlMCGf//p4QAId8Q/tkMfWFlQAAABhBmgdJ4QpSZTAhn/6eEABY/dN9FSs18e8AAAAYQZooSeEOiZTAhn/+nhAAON6+/kSI+sPdAAAAG0GaSUnhDyZTAhv//qeEAAl3yOAf3efBbdeQgAAAABlBmmpJ4Q8mUwIb//6nhAAJN8dPqONCQ9tBAAAAGUGai0nhDyZTAh3//qmWAAMVBZXGaX9sRsAAAAAbQZqvSeEPJlMCG//+p4QACaj5jzG8ogTv969AAAAAFUGezUURPC//AAXRNnJm210z2vqIwQAAAA8Bnux0Qr8AB8Yw8oaBnCcAAAAPAZ7uakK/AAfEH9UigSwnAAAAGUGa80moQWiZTAhn//6eEAAlqRfbX199xDgAAAAQQZ8RRREsL/8ABdKBBShuGAAAAA8BnzB0Qr8ABPoxi4D87yEAAAAQAZ8yakK/AAfFnhDxoaz9gAAAABhBmzRJqEFsmUwIb//+p4QACaqAd8MCN64AAAAYQZtVSeEKUmUwIb/+p4QACXfHTH+H1bgNAAAAGUGbdknhDomUwId//qmWAASn486WdHU8y8AAAAAbQZuZSeEPJlMCHf/+qZYABvKkGaAPSX12d+C3AAAAEkGft0URPCv/AAtdjwISMfvlwQAAAA4Bn9hqQr8AC12PXT9WLgAAABxBm91JqEFomUwIb//+p4QAFPxWzE/1dvjT+RaZAAAAEEGf+0URLC//AAySrxvYK3gAAAAPAZ4adEK/AAtcYQGSXR+BAAAAEAGeHGpCvwAQ3aITcZ9epgkAAAAeQZoBSahBbJlMCG///qeEACCj5mps22z7PFsutp6AAAAAEkGeP0UVLC//ABPqAWypeSr5gAAAABABnl50Qr8AENdqTyvyU3wRAAAAEAGeQGpCvwAbB2o5X9uID8AAAAAaQZpCSahBbJlMCG///qeEADN0if6rfMfiP8EAAAAdQZpkSeEKUmUwUVLDv/6plgAaD2l+zy/GGa20IMoAAAAPAZ6DakK/ACoNZTNsyNgPAAAAGUGah0nhDomUwIb//qeEADE+wf4Tgt0JdMEAAAASQZ6lRRU8K/8APM/A6Em61hzBAAAADgGexmpCvwA8wQLO/Cy/AAAAHEGaykmoQWiZTAhv//6nhAAfsHhTrOnu83Z/viAAAAARQZ7oRREsK/8AGmdWwSErft8AAAAOAZ8JakK/ABpnXxXAl30AAAAcQZsOSahBbJlMCG///qeEAB/fYP88grVMhIt/3AAAABBBnyxFFSwv/wATXP3OFlf4AAAADwGfS3RCvwAbB5N55xc7gQAAABABn01qQr8AGwZua48VbUwhAAAAHUGbUEmoQWyZTBRMN//+p4QAIaPmamzbjN7qfGDNAAAAEAGfb2pCvwAbp1TyYHr3e4AAAAAcQZtySeEKUmUwUsM//p4QANKvua45/Nr6++3EkAAAABABn5FqQr8ALFY8tw2bU9+BAAAAGUGbk0nhDomUwIb//qeEAFP9E/1W+Y/EUEAAAAAZQZu0SeEPJlMCG//+p4QAfs4z/Vb5j8Qz4AAAABtBm9hJ4Q8mUwIZ//6eEAL3XuuI5/SOvv6XtaEAAAAVQZ/2RRE8L/8AeY+/TOLa6QC5mCHwAAAAEAGeFXRCvwCoZaoHTtQ1VIEAAAAPAZ4XakK/AKg1lM2zI1oPAAAAGkGaGUmoQWiZTAhv//6nhAEsQBZttn2fNEvAAAAAGUGaOknhClJlMCG//qeEAkHRP9St9nyEqYEAAAARQZpeSeEOiZTAhn/+nhAABHwAAAAMQZ58RRE8L/8AALKBAAAAEAGem3RCvwJ20rF6NA43lYEAAAAQAZ6dakK/AnXaHP6vDjeVgAAAABlBmp9JqEFomUwIb//+p4QCSd1OP8PqlPH+AAAAGkGaoEnhClJlMCG//qeECKyJ/pwYDBs/jUi5AAAAGkGawUnhDomUwId//qmWBJ+IQHN2g6OndwFnAAAAH0Ga5UnhDyZTAh3//qmWBBeSXzWUEM/GgB1CDcKgiYEAAAAQQZ8DRRE8L/8Bso69kVzNVAAAAA4BnyJ0Qr8CXtga6+BBBwAAABABnyRqQr8CSAvOdZx4K2ZBAAAAHEGbKUmoQWiZTAhv//6nhAIhjc9kYn8ml25Wm9EAAAASQZ9HRREsL/8BsuLRfgtOu2xpAAAADwGfZnRCvwJJFWq8A+fHJwAAABABn2hqQr8CSBDevfSQVhswAAAAHEGbbUmoQWyZTAhv//6nhAIp46fYSWZqbdFMG9EAAAAQQZ+LRRUsL/8BDs/c4WT6SAAAAA8Bn6p0Qr8Bf3k3nnFo1IAAAAAQAZ+sakK/AXVuQw+gJBxK2QAAABpBm65JqEFsmUwIb//+p4QBLfjp9RxoSHBZQQAAABxBm9BJ4QpSZTBRUsN//qeEAMP7B/mrpoyMdNZRAAAAEAGf72pCvwCfNuRV4An9H4AAAAAbQZv0SeEOiZTAhv/+p4QAfsHhxY1Q/3x08W8cAAAAEEGeEkUVPC//AE1z9m4IF/EAAAAOAZ4xdEK/AEN3HeecWycAAAAQAZ4zakK/AGmdqW4bNqa8gAAAABlBmjZJqEFomUwU8N/+p4QAf32D/OVFU7w9AAAADwGeVWpCvwBpiWlSKBKp8wAAABhBmldJ4QpSZTAhv/6nhABSPdTj/D6ttzMAAAAdQZp5SeEOiZTBTRMN//6nhAB8FgLNnwf6NLzaI00AAAAQAZ6YakK/AGcdU8mB69vKgAAAABtBmptJ4Q8mUwU8N//+p4QAfL2D/PKdpHmXoGEAAAAQAZ66akK/AGmZua48VbSVYAAAABhBmr9J4Q8mUwIZ//6eEAHlQj5HX39L6aEAAAAVQZ7dRRE8L/8AT6VjpcbBPek6KFcRAAAADwGe/HRCvwBsJLNwbJeNcQAAAA8Bnv5qQr8AbAi+ZtmRrZ8AAAAaQZrgSahBaJlMCG///qeEAMLSJ/qt8x+IQ8EAAAAZQZsBSeEKUmUwIb/+p4QBLEAWbbZ9nzRLwAAAAB1BmyNJ4Q6JlMFNEw3//qeEAmEVqmP9S/vYP1KRcQAAABABn0JqQr8BiXVPJgevbNSAAAAAEUGbR0nhDyZTAhn//p4QAAR9AAAADEGfZUURPC//AACygQAAABABn4R0Qr8Bk3k3R23wqOmBAAAAEAGfhmpCvwGEzk72ePt0poEAAAAbQZuJS6hCEFokRggoB/IB/YeAU8K//jhAABFwAAAAJAGfqGpCvwKvY+1BxN2qw0kqKHr1vNqBpSqIY0Qn+WsdSKzxWAAAC5htb292AAAAbG12aGQAAAAAAAAAAAAAAAAAAAPoAAAfkAABAAABAAAAAAAAAAAAAAAAAQAAAAAAAAAAAAAAAAAAAAEAAAAAAAAAAAAAAAAAAEAAAAAAAAAAAAAAAAAAAAAAAAAAAAAAAAAAAAAAAAACAAAKwnRyYWsAAABcdGtoZAAAAAMAAAAAAAAAAAAAAAEAAAAAAAAfkAAAAAAAAAAAAAAAAAAAAAAAAQAAAAAAAAAAAAAAAAAAAAEAAAAAAAAAAAAAAAAAAEAAAAABEAAAARAAAAAAACRlZHRzAAAAHGVsc3QAAAAAAAAAAQAAH5AAAAQAAAEAAAAACjptZGlhAAAAIG1kaGQAAAAAAAAAAAAAAAAAADIAAAGUAFXEAAAAAAAtaGRscgAAAAAAAAAAdmlkZQAAAAAAAAAAAAAAAFZpZGVvSGFuZGxlcgAAAAnlbWluZgAAABR2bWhkAAAAAQAAAAAAAAAAAAAAJGRpbmYAAAAcZHJlZgAAAAAAAAABAAAADHVybCAAAAABAAAJpXN0YmwAAACVc3RzZAAAAAAAAAABAAAAhWF2YzEAAAAAAAAAAQAAAAAAAAAAAAAAAAAAAAABEAEQAEgAAABIAAAAAAAAAAEAAAAAAAAAAAAAAAAAAAAAAAAAAAAAAAAAAAAAAAAAAAAY//8AAAAvYXZjQwH0AA3/4QAXZ/QADZGbKCIR0IAAAAMAgAAAGQeKFMsBAAVo6+PESAAAABhzdHRzAAAAAAAAAAEAAADKAAACAAAAABRzdHNzAAAAAAAAAAEAAAABAAAFcGN0dHMAAAAAAAAArAAAAAEAAAQAAAAAAQAACgAAAAABAAAEAAAAAAEAAAAAAAAAAQAAAgAAAAABAAAKAAAAAAEAAAQAAAAAAQAAAAAAAAABAAACAAAAAAMAAAQAAAAAAQAACAAAAAACAAACAAAAAAEAAAgAAAAAAgAAAgAAAAABAAAIAAAAAAIAAAIAAAAAAQAACAAAAAACAAACAAAAAAIAAAQAAAAAAQAACAAAAAACAAACAAAAAAEAAAQAAAAAAQAACgAAAAABAAAEAAAAAAEAAAAAAAAAAQAAAgAAAAABAAAKAAAAAAEAAAQAAAAAAQAAAAAAAAABAAACAAAAAAEAAAYAAAAAAQAAAgAAAAABAAAGAAAAAAEAAAIAAAAAAQAACgAAAAABAAAEAAAAAAEAAAAAAAAAAQAAAgAAAAABAAAEAAAAAAEAAAoAAAAAAQAABAAAAAABAAAAAAAAAAEAAAIAAAAAAQAACAAAAAACAAACAAAAAAEAAAQAAAAAAQAABgAAAAABAAACAAAAAAEAAAgAAAAAAgAAAgAAAAABAAAGAAAAAAEAAAIAAAAAAQAACgAAAAABAAAEAAAAAAEAAAAAAAAAAQAAAgAAAAABAAAEAAAAAAEAAAoAAAAAAQAABAAAAAABAAAAAAAAAAEAAAIAAAAAAQAACAAAAAACAAACAAAAAAEAAAgAAAAAAgAAAgAAAAACAAAEAAAAAAEAAAoAAAAAAQAABAAAAAABAAAAAAAAAAEAAAIAAAAAAQAACgAAAAABAAAEAAAAAAEAAAAAAAAAAQAAAgAAAAABAAAKAAAAAAEAAAQAAAAAAQAAAAAAAAABAAACAAAAAAEAAAgAAAAAAgAAAgAAAAABAAAIAAAAAAIAAAIAAAAAAQAABAAAAAABAAAKAAAAAAEAAAQAAAAAAQAAAAAAAAABAAACAAAAAAYAAAQAAAAAAQAACgAAAAABAAAEAAAAAAEAAAAAAAAAAQAAAgAAAAABAAAKAAAAAAEAAAQAAAAAAQAAAAAAAAABAAACAAAAAAMAAAQAAAAAAQAACAAAAAACAAACAAAAAAEAAAoAAAAAAQAABAAAAAABAAAAAAAAAAEAAAIAAAAAAQAACgAAAAABAAAEAAAAAAEAAAAAAAAAAQAAAgAAAAABAAAEAAAAAAEAAAYAAAAAAQAAAgAAAAABAAAIAAAAAAIAAAIAAAAAAQAACAAAAAACAAACAAAAAAEAAAoAAAAAAQAABAAAAAABAAAAAAAAAAEAAAIAAAAAAQAABgAAAAABAAACAAAAAAEAAAYAAAAAAQAAAgAAAAACAAAEAAAAAAEAAAoAAAAAAQAABAAAAAABAAAAAAAAAAEAAAIAAAAAAgAABAAAAAABAAAKAAAAAAEAAAQAAAAAAQAAAAAAAAABAAACAAAAAAMAAAQAAAAAAQAACgAAAAABAAAEAAAAAAEAAAAAAAAAAQAAAgAAAAABAAAKAAAAAAEAAAQAAAAAAQAAAAAAAAABAAACAAAAAAEAAAoAAAAAAQAABAAAAAABAAAAAAAAAAEAAAIAAAAAAQAABAAAAAABAAAGAAAAAAEAAAIAAAAAAQAACgAAAAABAAAEAAAAAAEAAAAAAAAAAQAAAgAAAAABAAAGAAAAAAEAAAIAAAAAAQAABAAAAAABAAAGAAAAAAEAAAIAAAAAAQAABgAAAAABAAACAAAAAAEAAAoAAAAAAQAABAAAAAABAAAAAAAAAAEAAAIAAAAAAgAABAAAAAABAAAGAAAAAAEAAAIAAAAAAQAACgAAAAABAAAEAAAAAAEAAAAAAAAAAQAAAgAAAAABAAAGAAAAAAEAAAIAAAAAHHN0c2MAAAAAAAAAAQAAAAEAAADKAAAAAQAAAzxzdHN6AAAAAAAAAAAAAADKAAAF0wAAABoAAAASAAAAFAAAABMAAAAjAAAAGQAAABQAAAAUAAAAHQAAAB0AAAAcAAAALQAAABYAAAATAAAAHgAAABMAAAASAAAAIAAAABYAAAATAAAAHwAAABMAAAAUAAAAHgAAAB0AAAAfAAAAFQAAABIAAAAeAAAAJQAAABUAAAATAAAAFAAAACAAAAAUAAAAEwAAABIAAAAdAAAAEwAAACAAAAAUAAAAFQAAABAAAAAUAAAAFAAAAB4AAAAfAAAAFAAAABMAAAAUAAAAHQAAABMAAAATAAAAHgAAACEAAAAUAAAAHwAAABYAAAAUAAAAHwAAABMAAAAcAAAAGAAAABQAAAAUAAAAHgAAABoAAAASAAAAFAAAABMAAAAeAAAAFgAAABMAAAAdAAAAFgAAABIAAAAdAAAAHQAAACEAAAAVAAAAEwAAABQAAAAgAAAAFAAAABQAAAATAAAAIAAAABYAAAAUAAAAFAAAAB4AAAATAAAAEQAAAB4AAAATAAAAEwAAAB4AAAAfAAAAFAAAABMAAAATAAAAHQAAABwAAAAcAAAAHwAAAB0AAAAdAAAAHwAAABkAAAATAAAAEwAAAB0AAAAUAAAAEwAAABQAAAAcAAAAHAAAAB0AAAAfAAAAFgAAABIAAAAgAAAAFAAAABMAAAAUAAAAIgAAABYAAAAUAAAAFAAAAB4AAAAhAAAAEwAAAB0AAAAWAAAAEgAAACAAAAAVAAAAEgAAACAAAAAUAAAAEwAAABQAAAAhAAAAFAAAACAAAAAUAAAAHQAAAB0AAAAfAAAAGQAAABQAAAATAAAAHgAAAB0AAAAVAAAAEAAAABQAAAAUAAAAHQAAAB4AAAAeAAAAIwAAABQAAAASAAAAFAAAACAAAAAWAAAAEwAAABQAAAAgAAAAFAAAABMAAAAUAAAAHgAAACAAAAAUAAAAHwAAABQAAAASAAAAFAAAAB0AAAATAAAAHAAAACEAAAAUAAAAHwAAABQAAAAcAAAAGQAAABMAAAATAAAAHgAAAB0AAAAhAAAAFAAAABUAAAAQAAAAFAAAABQAAAAfAAAAKAAAABRzdGNvAAAAAAAAAAEAAAAwAAAAYnVkdGEAAABabWV0YQAAAAAAAAAhaGRscgAAAAAAAAAAbWRpcmFwcGwAAAAAAAAAAAAAAAAtaWxzdAAAACWpdG9vAAAAHWRhdGEAAAABAAAAAExhdmY1Ny44My4xMDA=\" type=\"video/mp4\" />\n",
              "             </video>"
            ],
            "text/plain": [
              "<IPython.core.display.HTML object>"
            ]
          },
          "metadata": {
            "tags": []
          },
          "execution_count": 23
        }
      ]
    },
    {
      "cell_type": "code",
      "metadata": {
        "id": "wT4tvG6Urv65",
        "colab_type": "code",
        "outputId": "10b090bd-d9d3-41ab-9b42-16a6e818a467",
        "colab": {
          "base_uri": "https://localhost:8080/",
          "height": 485
        }
      },
      "source": [
        "# Evaluation\n",
        "test(agent,env,epochs_test,prefix='cnn_test_explore')\n",
        "HTML(display_videos('cnn_test_explore9.mp4'))"
      ],
      "execution_count": 0,
      "outputs": [
        {
          "output_type": "stream",
          "text": [
            "Win/lose count 19.5/1.0. Average score (18.5)\n",
            "Win/lose count 13.0/0. Average score (15.75)\n",
            "Win/lose count 20.0/3.0. Average score (16.166666666666668)\n",
            "Win/lose count 15.5/4.0. Average score (15.0)\n",
            "Win/lose count 20.0/1.0. Average score (15.8)\n",
            "Win/lose count 27.0/3.0. Average score (17.166666666666668)\n",
            "Win/lose count 17.0/3.0. Average score (16.714285714285715)\n",
            "Win/lose count 20.0/3.0. Average score (16.75)\n",
            "Win/lose count 21.0/4.0. Average score (16.77777777777778)\n",
            "Win/lose count 23.0/3.0. Average score (17.1)\n",
            "Final score: 17.1\n"
          ],
          "name": "stdout"
        },
        {
          "output_type": "execute_result",
          "data": {
            "text/html": [
              "<video alt=\"test\" controls>\n",
              "                <source src=\"data:video/mp4;base64,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\" type=\"video/mp4\" />\n",
              "             </video>"
            ],
            "text/plain": [
              "<IPython.core.display.HTML object>"
            ]
          },
          "metadata": {
            "tags": []
          },
          "execution_count": 26
        }
      ]
    },
    {
      "cell_type": "markdown",
      "metadata": {
        "id": "mQh-Kss0rv68",
        "colab_type": "text"
      },
      "source": [
        "***\n",
        "***\n",
        "__BONUS question__ Use the expert DQN from the previous question to generate some winning games. Train a model that mimicks its behavior. Compare the performances."
      ]
    },
    {
      "cell_type": "code",
      "metadata": {
        "id": "xtcRJpp5G64x",
        "colab_type": "code",
        "colab": {}
      },
      "source": [
        "class Mimick(Agent):\n",
        "    def __init__(self, grid_size,  epsilon = 0, memory_size=100, batch_size = 16,n_state=3):\n",
        "        super(Mimick, self).__init__(epsilon = epsilon)\n",
        "\n",
        "        # Discount for Q learning\n",
        "        self.discount = 0.99\n",
        "        \n",
        "        self.grid_size = grid_size\n",
        "        \n",
        "        # number of state\n",
        "        self.n_state = n_state\n",
        "\n",
        "        # Memory\n",
        "        self.memory = Memory(memory_size)\n",
        "        \n",
        "        # Batch size when learning\n",
        "        self.batch_size = batch_size\n",
        "\n",
        "    def learned_act(self, s):\n",
        "        return np.argmax(self.model.predict(s[np.newaxis,:,:,:]))\n",
        "\n",
        "    def reinforce_mimick(self, s_, n_s_, a_, r_, game_over_):\n",
        "        # Two steps: first memorize the states, second learn from the pool\n",
        "        \n",
        "        self.memory.remember([s_, n_s_, a_, r_, game_over_])\n",
        "        \n",
        "        input_states = np.zeros((self.batch_size, 5,5,self.n_state))\n",
        "        target_a = np.zeros((self.batch_size, 4))\n",
        "        # sample a batch from memory \n",
        "        transition_batch=self.memory.random_access(self.batch_size)\n",
        "        # fill arrays \n",
        "        for i in range(self.batch_size):\n",
        "            s_i, n_s_i, a_i, r_i, game_over_=transition_batch[i]\n",
        "            input_states[i]=s_i\n",
        "            target_a[i,a_i]=1\n",
        "        \n",
        "        l = self.model.train_on_batch(input_states, target_a)\n",
        "        return l\n",
        "\n",
        "    def save(self,name_weights='model.h5',name_model='model.json'):\n",
        "        self.model.save_weights(name_weights, overwrite=True)\n",
        "        with open(name_model, \"w\") as outfile:\n",
        "            json.dump(self.model.to_json(), outfile)\n",
        "            \n",
        "    def load(self,name_weights='model.h5',name_model='model.json'):\n",
        "        with open(name_model, \"r\") as jfile:\n",
        "            model = model_from_json(json.load(jfile))\n",
        "        model.load_weights(name_weights)\n",
        "        model.compile(\"sgd\", \"mse\")\n",
        "        self.model = model\n",
        "\n",
        "class Mimick_CNN(Mimick):\n",
        "    def __init__(self, *args,lr=0.1,**kwargs):\n",
        "        super(Mimick_CNN, self).__init__(*args,**kwargs)\n",
        "        \n",
        "        model=Sequential()\n",
        "        model.add(Conv2D(32, (2, 2),input_shape=(5, 5, self.n_state),padding='same',activation='relu'))\n",
        "        \n",
        "        model.add(Conv2D(16, (3, 3),activation='relu'))\n",
        "        model.add(Flatten())\n",
        "        model.add(Dense(4,activation='softmax')) \n",
        "        model.compile(sgd(lr=lr, decay=1e-4, momentum=0.0),  loss='categorical_crossentropy')\n",
        "        self.model = model"
      ],
      "execution_count": 0,
      "outputs": []
    },
    {
      "cell_type": "code",
      "metadata": {
        "id": "FhZpnyB0G7p4",
        "colab_type": "code",
        "colab": {}
      },
      "source": [
        "def train_mimick(expert_agent,mim,env,epochs,prefix=''):\n",
        "    # mimick is not epsilon greedy \n",
        "    mim.set_epsilon=0\n",
        "    loss = 0\n",
        "\n",
        "    for e in range(epochs):\n",
        "        # At each epoch, we restart to a fresh game and get the initial state\n",
        "        state = env.reset()\n",
        "        # This assumes that the games will terminate\n",
        "        game_over = False\n",
        "        # decreasing epsilon-greedy policy\n",
        "        while not game_over:\n",
        "            # The agent performs an action\n",
        "            action = expert_agent.act(state)\n",
        "\n",
        "            # Apply an action to the environment, get the next state, the reward\n",
        "            # and if the games end\n",
        "            prev_state = state\n",
        "            state, reward, game_over = env.act(action)\n",
        "            # Apply the reinforcement strategy\n",
        "            loss = mim.reinforce_mimick(prev_state, state,  action, reward, game_over)\n",
        "        print(\"Epoch {:03d}/{:03d} | Loss {:.4f} \"\n",
        "              .format(e, epochs, loss))\n",
        "        mim.save(name_weights=prefix+'model.h5',name_model=prefix+'model.json')"
      ],
      "execution_count": 0,
      "outputs": []
    },
    {
      "cell_type": "code",
      "metadata": {
        "id": "vQaiNTx5G9TJ",
        "colab_type": "code",
        "outputId": "a27cfaba-5606-479f-ce22-0bbe0efa1c0c",
        "colab": {
          "base_uri": "https://localhost:8080/",
          "height": 1000
        }
      },
      "source": [
        "mim=Mimick_CNN(size, lr=.01, epsilon = 0.1, memory_size=2000, batch_size = 32,n_state=3)\n",
        "epochs_train_mim=200\n",
        "train_mimick(agent,mim,env,epochs_train_mim,prefix='cnn_train_mimick')"
      ],
      "execution_count": 0,
      "outputs": [
        {
          "output_type": "stream",
          "text": [
            "WARNING:tensorflow:From /usr/local/lib/python3.6/dist-packages/keras/backend/tensorflow_backend.py:3576: The name tf.log is deprecated. Please use tf.math.log instead.\n",
            "\n",
            "WARNING:tensorflow:From /usr/local/lib/python3.6/dist-packages/tensorflow_core/python/ops/math_grad.py:1424: where (from tensorflow.python.ops.array_ops) is deprecated and will be removed in a future version.\n",
            "Instructions for updating:\n",
            "Use tf.where in 2.0, which has the same broadcast rule as np.where\n",
            "Epoch 000/200 | Loss 1.1367 \n",
            "Epoch 001/200 | Loss 0.9734 \n",
            "Epoch 002/200 | Loss 0.7994 \n",
            "Epoch 003/200 | Loss 0.9943 \n",
            "Epoch 004/200 | Loss 1.0169 \n",
            "Epoch 005/200 | Loss 0.6240 \n",
            "Epoch 006/200 | Loss 0.6199 \n",
            "Epoch 007/200 | Loss 0.6938 \n",
            "Epoch 008/200 | Loss 0.6628 \n",
            "Epoch 009/200 | Loss 0.5601 \n",
            "Epoch 010/200 | Loss 0.5257 \n",
            "Epoch 011/200 | Loss 0.5106 \n",
            "Epoch 012/200 | Loss 0.5295 \n",
            "Epoch 013/200 | Loss 0.8044 \n",
            "Epoch 014/200 | Loss 0.6494 \n",
            "Epoch 015/200 | Loss 0.6845 \n",
            "Epoch 016/200 | Loss 0.6643 \n",
            "Epoch 017/200 | Loss 0.4998 \n",
            "Epoch 018/200 | Loss 0.6745 \n",
            "Epoch 019/200 | Loss 0.7952 \n",
            "Epoch 020/200 | Loss 0.7984 \n",
            "Epoch 021/200 | Loss 0.7572 \n",
            "Epoch 022/200 | Loss 0.7261 \n",
            "Epoch 023/200 | Loss 0.6550 \n",
            "Epoch 024/200 | Loss 0.5542 \n",
            "Epoch 025/200 | Loss 0.5500 \n",
            "Epoch 026/200 | Loss 0.6894 \n",
            "Epoch 027/200 | Loss 0.7379 \n",
            "Epoch 028/200 | Loss 0.6764 \n",
            "Epoch 029/200 | Loss 0.4686 \n",
            "Epoch 030/200 | Loss 0.8483 \n",
            "Epoch 031/200 | Loss 0.5768 \n",
            "Epoch 032/200 | Loss 0.5293 \n",
            "Epoch 033/200 | Loss 0.6766 \n",
            "Epoch 034/200 | Loss 0.5979 \n",
            "Epoch 035/200 | Loss 0.6576 \n",
            "Epoch 036/200 | Loss 0.7605 \n",
            "Epoch 037/200 | Loss 0.5295 \n",
            "Epoch 038/200 | Loss 0.5928 \n",
            "Epoch 039/200 | Loss 0.4414 \n",
            "Epoch 040/200 | Loss 0.8582 \n",
            "Epoch 041/200 | Loss 0.5071 \n",
            "Epoch 042/200 | Loss 0.3304 \n",
            "Epoch 043/200 | Loss 0.6716 \n",
            "Epoch 044/200 | Loss 0.5781 \n",
            "Epoch 045/200 | Loss 0.5029 \n",
            "Epoch 046/200 | Loss 0.4734 \n",
            "Epoch 047/200 | Loss 0.5544 \n",
            "Epoch 048/200 | Loss 0.5639 \n",
            "Epoch 049/200 | Loss 0.6441 \n",
            "Epoch 050/200 | Loss 0.4553 \n",
            "Epoch 051/200 | Loss 0.4881 \n",
            "Epoch 052/200 | Loss 0.4210 \n",
            "Epoch 053/200 | Loss 0.4673 \n",
            "Epoch 054/200 | Loss 0.2910 \n",
            "Epoch 055/200 | Loss 0.5398 \n",
            "Epoch 056/200 | Loss 0.5048 \n",
            "Epoch 057/200 | Loss 0.6730 \n",
            "Epoch 058/200 | Loss 0.4690 \n",
            "Epoch 059/200 | Loss 0.3852 \n",
            "Epoch 060/200 | Loss 0.2531 \n",
            "Epoch 061/200 | Loss 0.3464 \n",
            "Epoch 062/200 | Loss 0.5022 \n",
            "Epoch 063/200 | Loss 0.4021 \n",
            "Epoch 064/200 | Loss 0.2627 \n",
            "Epoch 065/200 | Loss 0.3889 \n",
            "Epoch 066/200 | Loss 0.5448 \n",
            "Epoch 067/200 | Loss 0.5261 \n",
            "Epoch 068/200 | Loss 0.4771 \n",
            "Epoch 069/200 | Loss 0.6253 \n",
            "Epoch 070/200 | Loss 0.2599 \n",
            "Epoch 071/200 | Loss 0.4675 \n",
            "Epoch 072/200 | Loss 0.4435 \n",
            "Epoch 073/200 | Loss 0.6313 \n",
            "Epoch 074/200 | Loss 0.3608 \n",
            "Epoch 075/200 | Loss 0.4700 \n",
            "Epoch 076/200 | Loss 0.4915 \n",
            "Epoch 077/200 | Loss 0.8102 \n",
            "Epoch 078/200 | Loss 0.6002 \n",
            "Epoch 079/200 | Loss 0.3591 \n",
            "Epoch 080/200 | Loss 0.7072 \n",
            "Epoch 081/200 | Loss 0.3540 \n",
            "Epoch 082/200 | Loss 0.5142 \n",
            "Epoch 083/200 | Loss 0.8872 \n",
            "Epoch 084/200 | Loss 0.5681 \n",
            "Epoch 085/200 | Loss 0.6518 \n",
            "Epoch 086/200 | Loss 0.4653 \n",
            "Epoch 087/200 | Loss 0.3816 \n",
            "Epoch 088/200 | Loss 0.8347 \n",
            "Epoch 089/200 | Loss 0.8398 \n",
            "Epoch 090/200 | Loss 0.6372 \n",
            "Epoch 091/200 | Loss 0.9540 \n",
            "Epoch 092/200 | Loss 0.1974 \n",
            "Epoch 093/200 | Loss 1.0166 \n",
            "Epoch 094/200 | Loss 0.2432 \n",
            "Epoch 095/200 | Loss 0.4272 \n",
            "Epoch 096/200 | Loss 0.4317 \n",
            "Epoch 097/200 | Loss 0.7150 \n",
            "Epoch 098/200 | Loss 0.5116 \n",
            "Epoch 099/200 | Loss 0.7349 \n",
            "Epoch 100/200 | Loss 0.3539 \n",
            "Epoch 101/200 | Loss 0.8284 \n",
            "Epoch 102/200 | Loss 0.8070 \n",
            "Epoch 103/200 | Loss 0.3398 \n",
            "Epoch 104/200 | Loss 0.6520 \n",
            "Epoch 105/200 | Loss 0.4211 \n",
            "Epoch 106/200 | Loss 0.4908 \n",
            "Epoch 107/200 | Loss 0.3431 \n",
            "Epoch 108/200 | Loss 0.3638 \n",
            "Epoch 109/200 | Loss 0.4466 \n",
            "Epoch 110/200 | Loss 0.5997 \n",
            "Epoch 111/200 | Loss 0.3883 \n",
            "Epoch 112/200 | Loss 0.2937 \n",
            "Epoch 113/200 | Loss 0.7619 \n",
            "Epoch 114/200 | Loss 0.5648 \n",
            "Epoch 115/200 | Loss 0.4153 \n",
            "Epoch 116/200 | Loss 0.7945 \n",
            "Epoch 117/200 | Loss 0.4923 \n",
            "Epoch 118/200 | Loss 0.2620 \n",
            "Epoch 119/200 | Loss 0.5210 \n",
            "Epoch 120/200 | Loss 1.1998 \n",
            "Epoch 121/200 | Loss 0.2497 \n",
            "Epoch 122/200 | Loss 1.0043 \n",
            "Epoch 123/200 | Loss 0.2491 \n",
            "Epoch 124/200 | Loss 0.3985 \n",
            "Epoch 125/200 | Loss 0.4225 \n",
            "Epoch 126/200 | Loss 0.3875 \n",
            "Epoch 127/200 | Loss 0.8485 \n",
            "Epoch 128/200 | Loss 0.3266 \n",
            "Epoch 129/200 | Loss 0.3289 \n",
            "Epoch 130/200 | Loss 0.3021 \n",
            "Epoch 131/200 | Loss 0.4623 \n",
            "Epoch 132/200 | Loss 0.6494 \n",
            "Epoch 133/200 | Loss 0.5311 \n",
            "Epoch 134/200 | Loss 0.7759 \n",
            "Epoch 135/200 | Loss 0.5486 \n",
            "Epoch 136/200 | Loss 0.6788 \n",
            "Epoch 137/200 | Loss 0.2667 \n",
            "Epoch 138/200 | Loss 0.5474 \n",
            "Epoch 139/200 | Loss 0.3465 \n",
            "Epoch 140/200 | Loss 0.4013 \n",
            "Epoch 141/200 | Loss 0.5122 \n",
            "Epoch 142/200 | Loss 0.4798 \n",
            "Epoch 143/200 | Loss 0.4096 \n",
            "Epoch 144/200 | Loss 0.5131 \n",
            "Epoch 145/200 | Loss 0.3839 \n",
            "Epoch 146/200 | Loss 0.3895 \n",
            "Epoch 147/200 | Loss 0.7997 \n",
            "Epoch 148/200 | Loss 0.6617 \n",
            "Epoch 149/200 | Loss 0.3128 \n",
            "Epoch 150/200 | Loss 0.2354 \n",
            "Epoch 151/200 | Loss 0.2900 \n",
            "Epoch 152/200 | Loss 0.6115 \n",
            "Epoch 153/200 | Loss 0.3123 \n",
            "Epoch 154/200 | Loss 0.2864 \n",
            "Epoch 155/200 | Loss 0.6167 \n",
            "Epoch 156/200 | Loss 0.3841 \n",
            "Epoch 157/200 | Loss 0.3617 \n",
            "Epoch 158/200 | Loss 0.7886 \n",
            "Epoch 159/200 | Loss 0.2625 \n",
            "Epoch 160/200 | Loss 0.5549 \n",
            "Epoch 161/200 | Loss 0.3879 \n",
            "Epoch 162/200 | Loss 0.3973 \n",
            "Epoch 163/200 | Loss 0.3530 \n",
            "Epoch 164/200 | Loss 0.3366 \n",
            "Epoch 165/200 | Loss 0.6953 \n",
            "Epoch 166/200 | Loss 0.3169 \n",
            "Epoch 167/200 | Loss 0.8836 \n",
            "Epoch 168/200 | Loss 0.3879 \n",
            "Epoch 169/200 | Loss 0.4674 \n",
            "Epoch 170/200 | Loss 0.3541 \n",
            "Epoch 171/200 | Loss 0.3580 \n",
            "Epoch 172/200 | Loss 0.5210 \n",
            "Epoch 173/200 | Loss 0.5093 \n",
            "Epoch 174/200 | Loss 0.3694 \n",
            "Epoch 175/200 | Loss 0.5215 \n",
            "Epoch 176/200 | Loss 0.3385 \n",
            "Epoch 177/200 | Loss 0.2687 \n",
            "Epoch 178/200 | Loss 0.2864 \n",
            "Epoch 179/200 | Loss 0.3490 \n",
            "Epoch 180/200 | Loss 0.4544 \n",
            "Epoch 181/200 | Loss 0.7352 \n",
            "Epoch 182/200 | Loss 0.6903 \n",
            "Epoch 183/200 | Loss 0.3971 \n",
            "Epoch 184/200 | Loss 0.3674 \n",
            "Epoch 185/200 | Loss 1.2039 \n",
            "Epoch 186/200 | Loss 0.7636 \n",
            "Epoch 187/200 | Loss 0.6216 \n",
            "Epoch 188/200 | Loss 0.7233 \n",
            "Epoch 189/200 | Loss 0.4177 \n",
            "Epoch 190/200 | Loss 0.4510 \n",
            "Epoch 191/200 | Loss 0.6108 \n",
            "Epoch 192/200 | Loss 0.5330 \n",
            "Epoch 193/200 | Loss 0.9302 \n",
            "Epoch 194/200 | Loss 0.6324 \n",
            "Epoch 195/200 | Loss 0.3921 \n",
            "Epoch 196/200 | Loss 0.2975 \n",
            "Epoch 197/200 | Loss 0.5927 \n",
            "Epoch 198/200 | Loss 0.3721 \n",
            "Epoch 199/200 | Loss 0.3160 \n"
          ],
          "name": "stdout"
        }
      ]
    },
    {
      "cell_type": "code",
      "metadata": {
        "id": "jINTXMJgHAB-",
        "colab_type": "code",
        "outputId": "1d5fcd91-3511-46b0-f508-ba69214c88e9",
        "colab": {
          "base_uri": "https://localhost:8080/",
          "height": 485
        }
      },
      "source": [
        "# Evaluation\n",
        "test(mim,env,epochs_test,prefix='cnn_test_mimick')\n",
        "HTML(display_videos('cnn_test_mimick9.mp4'))"
      ],
      "execution_count": 0,
      "outputs": [
        {
          "output_type": "stream",
          "text": [
            "Win/lose count 21.0/3.0. Average score (18.0)\n",
            "Win/lose count 16.0/2.0. Average score (16.0)\n",
            "Win/lose count 28.0/4.0. Average score (18.666666666666668)\n",
            "Win/lose count 12.5/2.0. Average score (16.625)\n",
            "Win/lose count 27.0/4.0. Average score (17.9)\n",
            "Win/lose count 19.0/1.0. Average score (17.916666666666668)\n",
            "Win/lose count 18.0/5.0. Average score (17.214285714285715)\n",
            "Win/lose count 13.5/2.0. Average score (16.5)\n",
            "Win/lose count 20.5/5.0. Average score (16.38888888888889)\n",
            "Win/lose count 25.0/4.0. Average score (16.85)\n",
            "Final score: 16.85\n"
          ],
          "name": "stdout"
        },
        {
          "output_type": "execute_result",
          "data": {
            "text/html": [
              "<video alt=\"test\" controls>\n",
              "                <source src=\"data:video/mp4;base64,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\" type=\"video/mp4\" />\n",
              "             </video>"
            ],
            "text/plain": [
              "<IPython.core.display.HTML object>"
            ]
          },
          "metadata": {
            "tags": []
          },
          "execution_count": 31
        }
      ]
    },
    {
      "cell_type": "markdown",
      "metadata": {
        "id": "m7ANfViOrv6_",
        "colab_type": "text"
      },
      "source": [
        "**Answer BONUS:** We notice that the mimick has a performance that is good (score of 16.85). However, it failed to surpass the expert agent that was trained with exploration. This is natural since the mimick is learning from the agent. It can only hope to achieve the same levels of precision. Since at the end of the training of the mimick, we still have a non-zero loss, we can conclude that the mimick still does not do the exact actions dictated by the expert agent, and it will have an inferior performance. "
      ]
    },
    {
      "cell_type": "markdown",
      "metadata": {
        "id": "DzUVTNKOrv7A",
        "colab_type": "text"
      },
      "source": [
        "***"
      ]
    }
  ]
}